{
 "cells": [
  {
   "cell_type": "markdown",
   "metadata": {},
   "source": [
    "### Ignore Futrue Warnings"
   ]
  },
  {
   "cell_type": "code",
   "execution_count": 1,
   "metadata": {},
   "outputs": [],
   "source": [
    "import warnings\n",
    "\n",
    "# Ignore all future warnings\n",
    "warnings.simplefilter(action='ignore', category=FutureWarning)"
   ]
  },
  {
   "cell_type": "markdown",
   "metadata": {},
   "source": [
    "# Import Dependencies"
   ]
  },
  {
   "cell_type": "code",
   "execution_count": 4,
   "metadata": {},
   "outputs": [],
   "source": [
    "import numpy as np\n",
    "import pandas as pd\n",
    "import matplotlib.pyplot as plt"
   ]
  },
  {
   "cell_type": "markdown",
   "metadata": {},
   "source": [
    "## Read the Given Dataset"
   ]
  },
  {
   "cell_type": "code",
   "execution_count": 7,
   "metadata": {},
   "outputs": [],
   "source": [
    "# Load the datasets\n",
    "train_data = pd.read_csv('solar-production-and-load-prediction-competition/train_data.csv')\n",
    "test_data = pd.read_csv('solar-production-and-load-prediction-competition/test_data_masked.csv')\n",
    "systems_data = pd.read_csv('solar-production-and-load-prediction-competition/systems_new.csv')"
   ]
  },
  {
   "cell_type": "markdown",
   "metadata": {},
   "source": [
    "### Dtype the Datatime\n",
    "The dtype of the `timestamp` was object. which was not good for the datasat, as timestamp is the most crucial feature in our dataset."
   ]
  },
  {
   "cell_type": "code",
   "execution_count": 9,
   "metadata": {},
   "outputs": [],
   "source": [
    "# Ensure the timestamp column is properly parsed\n",
    "train_data['timestamp'] = pd.to_datetime(train_data['timestamp'])\n",
    "test_data['timestamp'] = pd.to_datetime(test_data['timestamp'])"
   ]
  },
  {
   "cell_type": "markdown",
   "metadata": {},
   "source": [
    "# Data Cleaning\n",
    "Data Cleaning is one of the most important preprocess step beforee training the model. Uncleaned data may lead our model in other side"
   ]
  },
  {
   "cell_type": "code",
   "execution_count": 11,
   "metadata": {},
   "outputs": [
    {
     "data": {
      "text/plain": [
       "79551"
      ]
     },
     "execution_count": 11,
     "metadata": {},
     "output_type": "execute_result"
    }
   ],
   "source": [
    "train_data.duplicated().sum()"
   ]
  },
  {
   "cell_type": "code",
   "execution_count": 12,
   "metadata": {},
   "outputs": [],
   "source": [
    "train_data = train_data.drop_duplicates()"
   ]
  },
  {
   "cell_type": "code",
   "execution_count": 14,
   "metadata": {},
   "outputs": [
    {
     "data": {
      "text/plain": [
       "0"
      ]
     },
     "execution_count": 14,
     "metadata": {},
     "output_type": "execute_result"
    }
   ],
   "source": [
    "train_data.duplicated().sum()"
   ]
  },
  {
   "cell_type": "code",
   "execution_count": 19,
   "metadata": {},
   "outputs": [
    {
     "data": {
      "text/plain": [
       "system_id       0\n",
       "timestamp       0\n",
       "generation_W    0\n",
       "load_W          0\n",
       "dtype: int64"
      ]
     },
     "execution_count": 19,
     "metadata": {},
     "output_type": "execute_result"
    }
   ],
   "source": [
    "train_data.isna().sum()"
   ]
  },
  {
   "cell_type": "markdown",
   "metadata": {},
   "source": [
    "### Timestatmp Missing:\n",
    "In the dattaset, when we checked the `isna()` values, we get zero null values, but isna() don't help you with the data that's not in the timestamp, like inn out dataset, we have the timestamp of the time interavl 10min, if ther's no data for the complete hour, means the data is missing from the datast, so we have to add them inn order to make the dta frame absolute"
   ]
  },
  {
   "cell_type": "code",
   "execution_count": 22,
   "metadata": {},
   "outputs": [],
   "source": [
    "def reindex_per_system_id(df, freq='10min'):\n",
    "    # Determine the global minimum and maximum timestamp across the entire dataset\n",
    "    global_min_timestamp = df['timestamp'].min()\n",
    "    global_max_timestamp = df['timestamp'].max()\n",
    "    \n",
    "    # Create the complete global timestamp range\n",
    "    full_range = pd.date_range(start=global_min_timestamp, end=global_max_timestamp, freq=freq)\n",
    "    \n",
    "    reindexed_data = []\n",
    "    \n",
    "    # Group by system_id and reindex based on the global full timestamp range for each system\n",
    "    for system_id, group in df.groupby('system_id'):\n",
    "        # Reindex the group with the global full timestamp range\n",
    "        group = group.set_index('timestamp').reindex(full_range)\n",
    "        \n",
    "        # Reset the index and add back the system_id\n",
    "        group = group.reset_index().rename(columns={'index': 'timestamp'})\n",
    "        group['system_id'] = system_id\n",
    "        \n",
    "        reindexed_data.append(group)\n",
    "    \n",
    "    # Concatenate all reindexed groups back into a single DataFrame\n",
    "    return pd.concat(reindexed_data, ignore_index=True)"
   ]
  },
  {
   "cell_type": "code",
   "execution_count": 24,
   "metadata": {},
   "outputs": [],
   "source": [
    "# # Function to reindex each system_id separately\n",
    "# def reindex_per_system_id(df, freq='10min'):\n",
    "#     reindexed_data = []\n",
    "#     # Group by system_id and reindex based on a full timestamp range for each system\n",
    "#     for system_id, group in df.groupby('system_id'):\n",
    "#         # Create a complete timestamp range for the current group\n",
    "#         full_range = pd.date_range(start=group['timestamp'].min(), end=group['timestamp'].max(), freq=freq)\n",
    "#         # Reindex the group\n",
    "#         group = group.set_index('timestamp').reindex(full_range)\n",
    "#         # Reset the index and add back the system_id\n",
    "#         group = group.reset_index().rename(columns={'index': 'timestamp'})\n",
    "#         group['system_id'] = system_id\n",
    "#         reindexed_data.append(group)\n",
    "#     # Concatenate all reindexed groups back into a single DataFrame\n",
    "#     return pd.concat(reindexed_data, ignore_index=True)"
   ]
  },
  {
   "cell_type": "code",
   "execution_count": 26,
   "metadata": {},
   "outputs": [],
   "source": [
    "# Apply the function to your train_data\n",
    "train_data_reindexed = reindex_per_system_id(train_data)"
   ]
  },
  {
   "cell_type": "markdown",
   "metadata": {},
   "source": [
    "After filling the missing timestamp, we get a lot of nan values in our dataset, now to fill that gap was crucial sensitive, it deponds on the nature of dataset, how ca can fll that data"
   ]
  },
  {
   "cell_type": "code",
   "execution_count": 29,
   "metadata": {},
   "outputs": [
    {
     "data": {
      "text/html": [
       "<div>\n",
       "<style scoped>\n",
       "    .dataframe tbody tr th:only-of-type {\n",
       "        vertical-align: middle;\n",
       "    }\n",
       "\n",
       "    .dataframe tbody tr th {\n",
       "        vertical-align: top;\n",
       "    }\n",
       "\n",
       "    .dataframe thead th {\n",
       "        text-align: right;\n",
       "    }\n",
       "</style>\n",
       "<table border=\"1\" class=\"dataframe\">\n",
       "  <thead>\n",
       "    <tr style=\"text-align: right;\">\n",
       "      <th></th>\n",
       "      <th>timestamp</th>\n",
       "      <th>system_id</th>\n",
       "      <th>generation_W</th>\n",
       "      <th>load_W</th>\n",
       "    </tr>\n",
       "  </thead>\n",
       "  <tbody>\n",
       "    <tr>\n",
       "      <th>0</th>\n",
       "      <td>2023-08-01 11:00:00</td>\n",
       "      <td>3</td>\n",
       "      <td>NaN</td>\n",
       "      <td>NaN</td>\n",
       "    </tr>\n",
       "    <tr>\n",
       "      <th>1</th>\n",
       "      <td>2023-08-01 11:10:00</td>\n",
       "      <td>3</td>\n",
       "      <td>NaN</td>\n",
       "      <td>NaN</td>\n",
       "    </tr>\n",
       "    <tr>\n",
       "      <th>2</th>\n",
       "      <td>2023-08-01 11:20:00</td>\n",
       "      <td>3</td>\n",
       "      <td>NaN</td>\n",
       "      <td>NaN</td>\n",
       "    </tr>\n",
       "    <tr>\n",
       "      <th>3</th>\n",
       "      <td>2023-08-01 11:30:00</td>\n",
       "      <td>3</td>\n",
       "      <td>NaN</td>\n",
       "      <td>NaN</td>\n",
       "    </tr>\n",
       "    <tr>\n",
       "      <th>4</th>\n",
       "      <td>2023-08-01 11:40:00</td>\n",
       "      <td>3</td>\n",
       "      <td>NaN</td>\n",
       "      <td>NaN</td>\n",
       "    </tr>\n",
       "  </tbody>\n",
       "</table>\n",
       "</div>"
      ],
      "text/plain": [
       "            timestamp  system_id  generation_W  load_W\n",
       "0 2023-08-01 11:00:00          3           NaN     NaN\n",
       "1 2023-08-01 11:10:00          3           NaN     NaN\n",
       "2 2023-08-01 11:20:00          3           NaN     NaN\n",
       "3 2023-08-01 11:30:00          3           NaN     NaN\n",
       "4 2023-08-01 11:40:00          3           NaN     NaN"
      ]
     },
     "execution_count": 29,
     "metadata": {},
     "output_type": "execute_result"
    }
   ],
   "source": [
    "train_data_reindexed.head() "
   ]
  },
  {
   "cell_type": "code",
   "execution_count": 31,
   "metadata": {},
   "outputs": [
    {
     "data": {
      "text/plain": [
       "timestamp            0\n",
       "system_id            0\n",
       "generation_W    742985\n",
       "load_W          742985\n",
       "dtype: int64"
      ]
     },
     "execution_count": 31,
     "metadata": {},
     "output_type": "execute_result"
    }
   ],
   "source": [
    "train_data_reindexed.isna().sum()"
   ]
  },
  {
   "cell_type": "code",
   "execution_count": 33,
   "metadata": {},
   "outputs": [],
   "source": [
    "train_data_reindexed = train_data_reindexed.set_index(train_data_reindexed['timestamp'])"
   ]
  },
  {
   "cell_type": "markdown",
   "metadata": {},
   "source": [
    "## Visulatization after reindexing\n",
    "In the graph, we can see the original dataset plot and the modified one. Just by reindexing, we were able to controll a big number error from the original, like the outliers etc"
   ]
  },
  {
   "cell_type": "code",
   "execution_count": 36,
   "metadata": {},
   "outputs": [
    {
     "data": {
      "image/png": "[encoded data removed]",
      "text/plain": [
       "<Figure size 1200x400 with 1 Axes>"
      ]
     },
     "metadata": {},
     "output_type": "display_data"
    }
   ],
   "source": [
    "# Plot the first line for generation_W\n",
    "train_data_reindexed['generation_W'].plot(kind='line', figsize=(12, 4), label='Generation_W', color='blue')\n",
    "\n",
    "# Plot the second line for load_W (assuming you want to plot this as the second line)\n",
    "train_data_reindexed['load_W'].plot(kind='line', figsize=(12, 4), label='Load_W', color='green')\n",
    "\n",
    "# Add labels and title\n",
    "plt.xlabel('Timestamp')\n",
    "plt.ylabel('Values')\n",
    "plt.title('Generation and Load Over Time')\n",
    "\n",
    "# Add a legend to distinguish between the two lines\n",
    "plt.legend()\n",
    "\n",
    "# Show the plot\n",
    "plt.show()"
   ]
  },
  {
   "cell_type": "markdown",
   "metadata": {},
   "source": [
    "# Find the best value for your model"
   ]
  },
  {
   "cell_type": "code",
   "execution_count": 38,
   "metadata": {},
   "outputs": [],
   "source": [
    "# Convert the timestamp to datetime if it's not already\n",
    "train_data_reindexed['timestamp'] = pd.to_datetime(train_data_reindexed['timestamp'])\n",
    "\n",
    "# Extract the hour from the timestamp\n",
    "train_data_reindexed['hour'] = train_data_reindexed['timestamp'].dt.hour"
   ]
  },
  {
   "cell_type": "markdown",
   "metadata": {},
   "source": [
    "**Lookinng for the timestamp which is the night time, so the generatin is zero, but if the data is present then it's the error in the dataset**"
   ]
  },
  {
   "cell_type": "code",
   "execution_count": 42,
   "metadata": {},
   "outputs": [
    {
     "name": "stdout",
     "output_type": "stream",
     "text": [
      "Number of instances where generation_W is greater than zero during nighttime: 21265\n",
      "\n"
     ]
    },
    {
     "data": {
      "text/html": [
       "<div>\n",
       "<style scoped>\n",
       "    .dataframe tbody tr th:only-of-type {\n",
       "        vertical-align: middle;\n",
       "    }\n",
       "\n",
       "    .dataframe tbody tr th {\n",
       "        vertical-align: top;\n",
       "    }\n",
       "\n",
       "    .dataframe thead th {\n",
       "        text-align: right;\n",
       "    }\n",
       "</style>\n",
       "<table border=\"1\" class=\"dataframe\">\n",
       "  <thead>\n",
       "    <tr style=\"text-align: right;\">\n",
       "      <th></th>\n",
       "      <th>timestamp</th>\n",
       "      <th>system_id</th>\n",
       "      <th>generation_W</th>\n",
       "      <th>load_W</th>\n",
       "    </tr>\n",
       "    <tr>\n",
       "      <th>timestamp</th>\n",
       "      <th></th>\n",
       "      <th></th>\n",
       "      <th></th>\n",
       "      <th></th>\n",
       "    </tr>\n",
       "  </thead>\n",
       "  <tbody>\n",
       "    <tr>\n",
       "      <th>2023-08-14 19:00:00</th>\n",
       "      <td>2023-08-14 19:00:00</td>\n",
       "      <td>3</td>\n",
       "      <td>45.0</td>\n",
       "      <td>814.00001</td>\n",
       "    </tr>\n",
       "    <tr>\n",
       "      <th>2023-08-14 19:10:00</th>\n",
       "      <td>2023-08-14 19:10:00</td>\n",
       "      <td>3</td>\n",
       "      <td>40.0</td>\n",
       "      <td>715.50000</td>\n",
       "    </tr>\n",
       "    <tr>\n",
       "      <th>2023-08-15 19:00:00</th>\n",
       "      <td>2023-08-15 19:00:00</td>\n",
       "      <td>3</td>\n",
       "      <td>45.0</td>\n",
       "      <td>831.00000</td>\n",
       "    </tr>\n",
       "    <tr>\n",
       "      <th>2023-08-15 19:10:00</th>\n",
       "      <td>2023-08-15 19:10:00</td>\n",
       "      <td>3</td>\n",
       "      <td>37.0</td>\n",
       "      <td>824.00000</td>\n",
       "    </tr>\n",
       "    <tr>\n",
       "      <th>2023-08-16 19:00:00</th>\n",
       "      <td>2023-08-16 19:00:00</td>\n",
       "      <td>3</td>\n",
       "      <td>47.0</td>\n",
       "      <td>796.50000</td>\n",
       "    </tr>\n",
       "  </tbody>\n",
       "</table>\n",
       "</div>"
      ],
      "text/plain": [
       "                              timestamp  system_id  generation_W     load_W\n",
       "timestamp                                                                  \n",
       "2023-08-14 19:00:00 2023-08-14 19:00:00          3          45.0  814.00001\n",
       "2023-08-14 19:10:00 2023-08-14 19:10:00          3          40.0  715.50000\n",
       "2023-08-15 19:00:00 2023-08-15 19:00:00          3          45.0  831.00000\n",
       "2023-08-15 19:10:00 2023-08-15 19:10:00          3          37.0  824.00000\n",
       "2023-08-16 19:00:00 2023-08-16 19:00:00          3          47.0  796.50000"
      ]
     },
     "execution_count": 42,
     "metadata": {},
     "output_type": "execute_result"
    }
   ],
   "source": [
    "# Define nighttime hours (6 PM to 6 AM)\n",
    "nighttime_df = train_data_reindexed[(train_data_reindexed['hour'] >= 19) | (train_data_reindexed['hour'] < 5)]\n",
    "\n",
    "# Find instances where generation_W is greater than zero during nighttime\n",
    "generation_at_night = nighttime_df[nighttime_df['generation_W'] > 0]\n",
    "\n",
    "# Display the results\n",
    "print(f\"Number of instances where generation_W is greater than zero during nighttime: {len(generation_at_night)}\\n\")\n",
    "generation_at_night[['timestamp', 'system_id', 'generation_W', 'load_W']].head()"
   ]
  },
  {
   "cell_type": "markdown",
   "metadata": {},
   "source": [
    "**Fixing the Night time generation error:**\n",
    "If the valus found, the value will be replaced by zero, which is the actual value of the dataset"
   ]
  },
  {
   "cell_type": "code",
   "execution_count": 45,
   "metadata": {},
   "outputs": [
    {
     "data": {
      "text/html": [
       "<div>\n",
       "<style scoped>\n",
       "    .dataframe tbody tr th:only-of-type {\n",
       "        vertical-align: middle;\n",
       "    }\n",
       "\n",
       "    .dataframe tbody tr th {\n",
       "        vertical-align: top;\n",
       "    }\n",
       "\n",
       "    .dataframe thead th {\n",
       "        text-align: right;\n",
       "    }\n",
       "</style>\n",
       "<table border=\"1\" class=\"dataframe\">\n",
       "  <thead>\n",
       "    <tr style=\"text-align: right;\">\n",
       "      <th></th>\n",
       "      <th>timestamp</th>\n",
       "      <th>system_id</th>\n",
       "      <th>generation_W</th>\n",
       "      <th>load_W</th>\n",
       "    </tr>\n",
       "    <tr>\n",
       "      <th>timestamp</th>\n",
       "      <th></th>\n",
       "      <th></th>\n",
       "      <th></th>\n",
       "      <th></th>\n",
       "    </tr>\n",
       "  </thead>\n",
       "  <tbody>\n",
       "    <tr>\n",
       "      <th>2023-08-01 11:00:00</th>\n",
       "      <td>2023-08-01 11:00:00</td>\n",
       "      <td>3</td>\n",
       "      <td>NaN</td>\n",
       "      <td>NaN</td>\n",
       "    </tr>\n",
       "    <tr>\n",
       "      <th>2023-08-01 11:10:00</th>\n",
       "      <td>2023-08-01 11:10:00</td>\n",
       "      <td>3</td>\n",
       "      <td>NaN</td>\n",
       "      <td>NaN</td>\n",
       "    </tr>\n",
       "    <tr>\n",
       "      <th>2023-08-01 11:20:00</th>\n",
       "      <td>2023-08-01 11:20:00</td>\n",
       "      <td>3</td>\n",
       "      <td>NaN</td>\n",
       "      <td>NaN</td>\n",
       "    </tr>\n",
       "    <tr>\n",
       "      <th>2023-08-01 11:30:00</th>\n",
       "      <td>2023-08-01 11:30:00</td>\n",
       "      <td>3</td>\n",
       "      <td>NaN</td>\n",
       "      <td>NaN</td>\n",
       "    </tr>\n",
       "    <tr>\n",
       "      <th>2023-08-01 11:40:00</th>\n",
       "      <td>2023-08-01 11:40:00</td>\n",
       "      <td>3</td>\n",
       "      <td>NaN</td>\n",
       "      <td>NaN</td>\n",
       "    </tr>\n",
       "  </tbody>\n",
       "</table>\n",
       "</div>"
      ],
      "text/plain": [
       "                              timestamp  system_id  generation_W  load_W\n",
       "timestamp                                                               \n",
       "2023-08-01 11:00:00 2023-08-01 11:00:00          3           NaN     NaN\n",
       "2023-08-01 11:10:00 2023-08-01 11:10:00          3           NaN     NaN\n",
       "2023-08-01 11:20:00 2023-08-01 11:20:00          3           NaN     NaN\n",
       "2023-08-01 11:30:00 2023-08-01 11:30:00          3           NaN     NaN\n",
       "2023-08-01 11:40:00 2023-08-01 11:40:00          3           NaN     NaN"
      ]
     },
     "execution_count": 45,
     "metadata": {},
     "output_type": "execute_result"
    }
   ],
   "source": [
    "# Convert the timestamp to datetime if it's not already\n",
    "train_data_reindexed['timestamp'] = pd.to_datetime(train_data_reindexed['timestamp'])\n",
    "\n",
    "# Extract the hour from the timestamp\n",
    "train_data_reindexed['hour'] = train_data_reindexed['timestamp'].dt.hour\n",
    "\n",
    "# Define nighttime hours (6 PM to 6 AM)\n",
    "nighttime_condition = (train_data_reindexed['hour'] >= 19) | (train_data_reindexed['hour'] < 5)\n",
    "\n",
    "# Set generation_W to zero during nighttime\n",
    "train_data_reindexed.loc[nighttime_condition, 'generation_W'] = 0\n",
    "\n",
    "# Optionally, drop the 'hour' column if it's no longer needed\n",
    "train_data_reindexed = train_data_reindexed.drop(columns=['hour'])\n",
    "\n",
    "# Display the updated DataFrame\n",
    "train_data_reindexed.head()"
   ]
  },
  {
   "cell_type": "code",
   "execution_count": 47,
   "metadata": {},
   "outputs": [
    {
     "data": {
      "text/plain": [
       "timestamp            0\n",
       "system_id            0\n",
       "generation_W    429040\n",
       "load_W          742985\n",
       "dtype: int64"
      ]
     },
     "execution_count": 47,
     "metadata": {},
     "output_type": "execute_result"
    }
   ],
   "source": [
    "train_data_reindexed.isna().sum()"
   ]
  },
  {
   "cell_type": "markdown",
   "metadata": {},
   "source": [
    "## Interpolaion\n",
    "The dataset missing values can be filled by `ffill()`, but for timeseries data, the `fill()` isn't enough, we use the interpolation, with the method of linear."
   ]
  },
  {
   "cell_type": "code",
   "execution_count": 50,
   "metadata": {},
   "outputs": [
    {
     "data": {
      "text/html": [
       "<div>\n",
       "<style scoped>\n",
       "    .dataframe tbody tr th:only-of-type {\n",
       "        vertical-align: middle;\n",
       "    }\n",
       "\n",
       "    .dataframe tbody tr th {\n",
       "        vertical-align: top;\n",
       "    }\n",
       "\n",
       "    .dataframe thead th {\n",
       "        text-align: right;\n",
       "    }\n",
       "</style>\n",
       "<table border=\"1\" class=\"dataframe\">\n",
       "  <thead>\n",
       "    <tr style=\"text-align: right;\">\n",
       "      <th></th>\n",
       "      <th>timestamp</th>\n",
       "      <th>system_id</th>\n",
       "      <th>generation_W</th>\n",
       "      <th>load_W</th>\n",
       "    </tr>\n",
       "    <tr>\n",
       "      <th>timestamp</th>\n",
       "      <th></th>\n",
       "      <th></th>\n",
       "      <th></th>\n",
       "      <th></th>\n",
       "    </tr>\n",
       "  </thead>\n",
       "  <tbody>\n",
       "    <tr>\n",
       "      <th>2023-08-01 11:00:00</th>\n",
       "      <td>2023-08-01 11:00:00</td>\n",
       "      <td>3</td>\n",
       "      <td>NaN</td>\n",
       "      <td>NaN</td>\n",
       "    </tr>\n",
       "    <tr>\n",
       "      <th>2023-08-01 11:10:00</th>\n",
       "      <td>2023-08-01 11:10:00</td>\n",
       "      <td>3</td>\n",
       "      <td>NaN</td>\n",
       "      <td>NaN</td>\n",
       "    </tr>\n",
       "    <tr>\n",
       "      <th>2023-08-01 11:20:00</th>\n",
       "      <td>2023-08-01 11:20:00</td>\n",
       "      <td>3</td>\n",
       "      <td>NaN</td>\n",
       "      <td>NaN</td>\n",
       "    </tr>\n",
       "    <tr>\n",
       "      <th>2023-08-01 11:30:00</th>\n",
       "      <td>2023-08-01 11:30:00</td>\n",
       "      <td>3</td>\n",
       "      <td>NaN</td>\n",
       "      <td>NaN</td>\n",
       "    </tr>\n",
       "    <tr>\n",
       "      <th>2023-08-01 11:40:00</th>\n",
       "      <td>2023-08-01 11:40:00</td>\n",
       "      <td>3</td>\n",
       "      <td>NaN</td>\n",
       "      <td>NaN</td>\n",
       "    </tr>\n",
       "  </tbody>\n",
       "</table>\n",
       "</div>"
      ],
      "text/plain": [
       "                              timestamp  system_id  generation_W  load_W\n",
       "timestamp                                                               \n",
       "2023-08-01 11:00:00 2023-08-01 11:00:00          3           NaN     NaN\n",
       "2023-08-01 11:10:00 2023-08-01 11:10:00          3           NaN     NaN\n",
       "2023-08-01 11:20:00 2023-08-01 11:20:00          3           NaN     NaN\n",
       "2023-08-01 11:30:00 2023-08-01 11:30:00          3           NaN     NaN\n",
       "2023-08-01 11:40:00 2023-08-01 11:40:00          3           NaN     NaN"
      ]
     },
     "execution_count": 50,
     "metadata": {},
     "output_type": "execute_result"
    }
   ],
   "source": [
    "# Assuming your DataFrame is named df and is indexed by 'timestamp'\n",
    "df_interpolated = train_data_reindexed.copy()\n",
    "\n",
    "# Apply linear interpolation on the 'generation_W' and 'load_W' columns\n",
    "df_interpolated['generation_W'] = df_interpolated['generation_W'].interpolate(method='linear')\n",
    "df_interpolated['load_W'] = df_interpolated['load_W'].interpolate(method='linear')\n",
    "\n",
    "# Display the updated DataFrame with interpolated values\n",
    "df_interpolated.head()"
   ]
  },
  {
   "cell_type": "markdown",
   "metadata": {},
   "source": [
    "Liear inperpolation, it required the start and the end of the entries to fill the missing values, look for the start, we don't have the starting point so here we use other techniques, like bfill()"
   ]
  },
  {
   "cell_type": "code",
   "execution_count": 53,
   "metadata": {},
   "outputs": [
    {
     "data": {
      "text/plain": [
       "timestamp          0\n",
       "system_id          0\n",
       "generation_W      48\n",
       "load_W          1816\n",
       "dtype: int64"
      ]
     },
     "execution_count": 53,
     "metadata": {},
     "output_type": "execute_result"
    }
   ],
   "source": [
    "df_interpolated.isna().sum()"
   ]
  },
  {
   "cell_type": "code",
   "execution_count": 55,
   "metadata": {},
   "outputs": [
    {
     "data": {
      "text/html": [
       "<div>\n",
       "<style scoped>\n",
       "    .dataframe tbody tr th:only-of-type {\n",
       "        vertical-align: middle;\n",
       "    }\n",
       "\n",
       "    .dataframe tbody tr th {\n",
       "        vertical-align: top;\n",
       "    }\n",
       "\n",
       "    .dataframe thead th {\n",
       "        text-align: right;\n",
       "    }\n",
       "</style>\n",
       "<table border=\"1\" class=\"dataframe\">\n",
       "  <thead>\n",
       "    <tr style=\"text-align: right;\">\n",
       "      <th></th>\n",
       "      <th>timestamp</th>\n",
       "      <th>system_id</th>\n",
       "      <th>generation_W</th>\n",
       "      <th>load_W</th>\n",
       "    </tr>\n",
       "  </thead>\n",
       "  <tbody>\n",
       "    <tr>\n",
       "      <th>0</th>\n",
       "      <td>2023-08-01 11:00:00</td>\n",
       "      <td>3</td>\n",
       "      <td>NaN</td>\n",
       "      <td>NaN</td>\n",
       "    </tr>\n",
       "    <tr>\n",
       "      <th>1</th>\n",
       "      <td>2023-08-01 11:10:00</td>\n",
       "      <td>3</td>\n",
       "      <td>NaN</td>\n",
       "      <td>NaN</td>\n",
       "    </tr>\n",
       "    <tr>\n",
       "      <th>2</th>\n",
       "      <td>2023-08-01 11:20:00</td>\n",
       "      <td>3</td>\n",
       "      <td>NaN</td>\n",
       "      <td>NaN</td>\n",
       "    </tr>\n",
       "    <tr>\n",
       "      <th>3</th>\n",
       "      <td>2023-08-01 11:30:00</td>\n",
       "      <td>3</td>\n",
       "      <td>NaN</td>\n",
       "      <td>NaN</td>\n",
       "    </tr>\n",
       "    <tr>\n",
       "      <th>4</th>\n",
       "      <td>2023-08-01 11:40:00</td>\n",
       "      <td>3</td>\n",
       "      <td>NaN</td>\n",
       "      <td>NaN</td>\n",
       "    </tr>\n",
       "  </tbody>\n",
       "</table>\n",
       "</div>"
      ],
      "text/plain": [
       "            timestamp  system_id  generation_W  load_W\n",
       "0 2023-08-01 11:00:00          3           NaN     NaN\n",
       "1 2023-08-01 11:10:00          3           NaN     NaN\n",
       "2 2023-08-01 11:20:00          3           NaN     NaN\n",
       "3 2023-08-01 11:30:00          3           NaN     NaN\n",
       "4 2023-08-01 11:40:00          3           NaN     NaN"
      ]
     },
     "execution_count": 55,
     "metadata": {},
     "output_type": "execute_result"
    }
   ],
   "source": [
    "# Reset the index and drop the existing index\n",
    "df_reset = df_interpolated.reset_index(drop=True)\n",
    "\n",
    "# Display the updated DataFrame\n",
    "df_reset.head()"
   ]
  },
  {
   "cell_type": "code",
   "execution_count": 57,
   "metadata": {},
   "outputs": [
    {
     "data": {
      "text/html": [
       "<div>\n",
       "<style scoped>\n",
       "    .dataframe tbody tr th:only-of-type {\n",
       "        vertical-align: middle;\n",
       "    }\n",
       "\n",
       "    .dataframe tbody tr th {\n",
       "        vertical-align: top;\n",
       "    }\n",
       "\n",
       "    .dataframe thead th {\n",
       "        text-align: right;\n",
       "    }\n",
       "</style>\n",
       "<table border=\"1\" class=\"dataframe\">\n",
       "  <thead>\n",
       "    <tr style=\"text-align: right;\">\n",
       "      <th></th>\n",
       "      <th>timestamp</th>\n",
       "      <th>system_id</th>\n",
       "      <th>generation_W</th>\n",
       "      <th>load_W</th>\n",
       "    </tr>\n",
       "  </thead>\n",
       "  <tbody>\n",
       "    <tr>\n",
       "      <th>0</th>\n",
       "      <td>2023-08-01 11:00:00</td>\n",
       "      <td>3</td>\n",
       "      <td>586.000030</td>\n",
       "      <td>7784.506767</td>\n",
       "    </tr>\n",
       "    <tr>\n",
       "      <th>1</th>\n",
       "      <td>2023-08-01 11:10:00</td>\n",
       "      <td>3</td>\n",
       "      <td>573.791696</td>\n",
       "      <td>7783.528568</td>\n",
       "    </tr>\n",
       "    <tr>\n",
       "      <th>2</th>\n",
       "      <td>2023-08-01 11:20:00</td>\n",
       "      <td>3</td>\n",
       "      <td>561.583362</td>\n",
       "      <td>7782.550369</td>\n",
       "    </tr>\n",
       "    <tr>\n",
       "      <th>3</th>\n",
       "      <td>2023-08-01 11:30:00</td>\n",
       "      <td>3</td>\n",
       "      <td>549.375028</td>\n",
       "      <td>7781.572170</td>\n",
       "    </tr>\n",
       "    <tr>\n",
       "      <th>4</th>\n",
       "      <td>2023-08-01 11:40:00</td>\n",
       "      <td>3</td>\n",
       "      <td>537.166694</td>\n",
       "      <td>7780.593972</td>\n",
       "    </tr>\n",
       "  </tbody>\n",
       "</table>\n",
       "</div>"
      ],
      "text/plain": [
       "            timestamp  system_id  generation_W       load_W\n",
       "0 2023-08-01 11:00:00          3    586.000030  7784.506767\n",
       "1 2023-08-01 11:10:00          3    573.791696  7783.528568\n",
       "2 2023-08-01 11:20:00          3    561.583362  7782.550369\n",
       "3 2023-08-01 11:30:00          3    549.375028  7781.572170\n",
       "4 2023-08-01 11:40:00          3    537.166694  7780.593972"
      ]
     },
     "execution_count": 57,
     "metadata": {},
     "output_type": "execute_result"
    }
   ],
   "source": [
    "# Load your DataFrame\n",
    "df = df_reset\n",
    "\n",
    "# Ensure 'timestamp' is a datetime object\n",
    "df['timestamp'] = pd.to_datetime(df['timestamp'])\n",
    "\n",
    "# Function to fill missing values based on the average of other system_id's values\n",
    "def fill_missing_with_avg(df):\n",
    "    # Create a copy to avoid modifying the original DataFrame\n",
    "    df_filled = df.copy()\n",
    "    \n",
    "    # Identify rows with missing 'generation_W' or 'load_W'\n",
    "    missing_gen = df_filled['generation_W'].isnull()\n",
    "    missing_load = df_filled['load_W'].isnull()\n",
    "    \n",
    "    # Group by timestamp and calculate the mean for each group\n",
    "    mean_values = df_filled.groupby('timestamp').max()\n",
    "    \n",
    "    # Fill missing 'generation_W' with the average value from other system_id's at the same timestamp\n",
    "    df_filled.loc[missing_gen, 'generation_W'] = df_filled[missing_gen].apply(\n",
    "        lambda row: mean_values.at[row['timestamp'], 'generation_W'], axis=1\n",
    "    )\n",
    "    \n",
    "    # Fill missing 'load_W' with the average value from other system_id's at the same timestamp\n",
    "    df_filled.loc[missing_load, 'load_W'] = df_filled[missing_load].apply(\n",
    "        lambda row: mean_values.at[row['timestamp'], 'load_W'], axis=1\n",
    "    )\n",
    "    \n",
    "    return df_filled\n",
    "\n",
    "# Apply the function to fill missing values\n",
    "df_filled = fill_missing_with_avg(df)\n",
    "df_filled.head()"
   ]
  },
  {
   "cell_type": "code",
   "execution_count": 59,
   "metadata": {},
   "outputs": [
    {
     "data": {
      "text/plain": [
       "timestamp       0\n",
       "system_id       0\n",
       "generation_W    0\n",
       "load_W          0\n",
       "dtype: int64"
      ]
     },
     "execution_count": 59,
     "metadata": {},
     "output_type": "execute_result"
    }
   ],
   "source": [
    "# Check the result\n",
    "df_filled.isnull().sum()"
   ]
  },
  {
   "cell_type": "markdown",
   "metadata": {},
   "source": [
    "# Visulization\n",
    "Here we can look at different graphs, and interpret the graphs, it will help us to get the insights of the data well."
   ]
  },
  {
   "cell_type": "code",
   "execution_count": 62,
   "metadata": {},
   "outputs": [
    {
     "data": {
      "image/png": "[encoded data removed]",
      "text/plain": [
       "<Figure size 1400x1600 with 4 Axes>"
      ]
     },
     "metadata": {},
     "output_type": "display_data"
    }
   ],
   "source": [
    "# Create a figure with 4 subplots (4 rows and 1 column)\n",
    "fig, axs = plt.subplots(4, 1, figsize=(14, 16))\n",
    "\n",
    "# Plot the original train data for generation_W in the first subplot\n",
    "train_data.set_index('timestamp')['generation_W'].plot(ax=axs[0], label='Train Data', color='green')\n",
    "axs[0].set_xlabel('Timestamp')\n",
    "axs[0].set_ylabel('Generation_W')\n",
    "axs[0].set_title('Generation_W - Train Data')\n",
    "axs[0].legend()\n",
    "\n",
    "# Plot the filled data for generation_W in the second subplot\n",
    "df_filled.set_index('timestamp')['generation_W'].plot(ax=axs[1], label='Filled Data', color='red')\n",
    "axs[1].set_xlabel('Timestamp')\n",
    "axs[1].set_ylabel('Generation_W')\n",
    "axs[1].set_title('Generation_W - Filled Data')\n",
    "axs[1].legend()\n",
    "\n",
    "# Plot the original train data for load_W in the third subplot\n",
    "train_data.set_index('timestamp')['load_W'].plot(ax=axs[2], label='Train Data', color='green')\n",
    "axs[2].set_xlabel('Timestamp')\n",
    "axs[2].set_ylabel('Load_W')\n",
    "axs[2].set_title('Load_W - Train Data')\n",
    "axs[2].legend()\n",
    "\n",
    "# Plot the filled data for load_W in the fourth subplot\n",
    "df_filled.set_index('timestamp')['load_W'].plot(ax=axs[3], label='Filled Data', color='red')\n",
    "axs[3].set_xlabel('Timestamp')\n",
    "axs[3].set_ylabel('Load_W')\n",
    "axs[3].set_title('Load_W - Filled Data')\n",
    "axs[3].legend()\n",
    "\n",
    "# Adjust layout to avoid overlap\n",
    "plt.tight_layout()\n",
    "\n",
    "# Show the plots\n",
    "plt.show()"
   ]
  },
  {
   "cell_type": "markdown",
   "metadata": {},
   "source": [
    "## Ploting the diff.\n",
    "The Difference will tells a lot about the residuals that was in the dataset, we have to interpret it."
   ]
  },
  {
   "cell_type": "code",
   "execution_count": 64,
   "metadata": {},
   "outputs": [
    {
     "data": {
      "image/png": "[encoded data removed]",
      "text/plain": [
       "<Figure size 1200x400 with 1 Axes>"
      ]
     },
     "metadata": {},
     "output_type": "display_data"
    }
   ],
   "source": [
    "# Calculate the difference between filled data and original data\n",
    "difference = df_filled['generation_W'] - train_data['generation_W']\n",
    "\n",
    "# Plot the difference\n",
    "difference.plot(figsize=(12, 4), label='Difference (Filled - Original)', color='blue')\n",
    "\n",
    "# Add labels and title\n",
    "plt.xlabel('Timestamp')\n",
    "plt.ylabel('Difference in Generation_W')\n",
    "plt.title('Difference between Filled Data and Original Data')\n",
    "\n",
    "# Add a legend\n",
    "plt.legend()\n",
    "\n",
    "# Show the plot\n",
    "plt.show()"
   ]
  },
  {
   "cell_type": "markdown",
   "metadata": {},
   "source": [
    "## Plot the graphs, hourly, it shows us the comple trend, but we have some outliers"
   ]
  },
  {
   "cell_type": "code",
   "execution_count": 68,
   "metadata": {},
   "outputs": [],
   "source": [
    "# Ensure that 'timestamp' is a datetime object\n",
    "df_filled['timestamp'] = pd.to_datetime(df_filled['timestamp'])\n",
    "\n",
    "# Extract the hour from the timestamp\n",
    "df_filled['hour'] = df_filled['timestamp'].dt.hour"
   ]
  },
  {
   "cell_type": "code",
   "execution_count": 70,
   "metadata": {},
   "outputs": [
    {
     "data": {
      "text/plain": [
       "<Figure size 1200x400 with 0 Axes>"
      ]
     },
     "metadata": {},
     "output_type": "display_data"
    },
    {
     "data": {
      "image/png": "[encoded data removed]",
      "text/plain": [
       "<Figure size 640x480 with 1 Axes>"
      ]
     },
     "metadata": {},
     "output_type": "display_data"
    }
   ],
   "source": [
    "# Create a box plot for generation_W grouped by hour\n",
    "plt.figure(figsize=(12, 4))\n",
    "df_filled.boxplot(column='generation_W', by='hour', grid=False, showfliers=False)\n",
    "\n",
    "# Add labels and title\n",
    "plt.xlabel('Hour of the Day')\n",
    "plt.ylabel('Generation_W')\n",
    "plt.title('Box Plot of Generation_W by Hour of the Day')\n",
    "plt.suptitle('')  # Suppress the automatic boxplot title\n",
    "\n",
    "# Show the plot\n",
    "plt.show()"
   ]
  },
  {
   "cell_type": "markdown",
   "metadata": {},
   "source": [
    "## Saving the File"
   ]
  },
  {
   "cell_type": "code",
   "execution_count": 72,
   "metadata": {},
   "outputs": [],
   "source": [
    "df_filled.to_csv('df_train_clean.csv', index = False)"
   ]
  },
  {
   "cell_type": "code",
   "execution_count": 73,
   "metadata": {},
   "outputs": [
    {
     "data": {
      "text/html": [
       "<div>\n",
       "<style scoped>\n",
       "    .dataframe tbody tr th:only-of-type {\n",
       "        vertical-align: middle;\n",
       "    }\n",
       "\n",
       "    .dataframe tbody tr th {\n",
       "        vertical-align: top;\n",
       "    }\n",
       "\n",
       "    .dataframe thead th {\n",
       "        text-align: right;\n",
       "    }\n",
       "</style>\n",
       "<table border=\"1\" class=\"dataframe\">\n",
       "  <thead>\n",
       "    <tr style=\"text-align: right;\">\n",
       "      <th></th>\n",
       "      <th>timestamp</th>\n",
       "      <th>system_id</th>\n",
       "      <th>generation_W</th>\n",
       "      <th>load_W</th>\n",
       "      <th>hour</th>\n",
       "    </tr>\n",
       "  </thead>\n",
       "  <tbody>\n",
       "    <tr>\n",
       "      <th>0</th>\n",
       "      <td>2023-08-01 11:00:00</td>\n",
       "      <td>3</td>\n",
       "      <td>586.000030</td>\n",
       "      <td>7784.506767</td>\n",
       "      <td>11</td>\n",
       "    </tr>\n",
       "    <tr>\n",
       "      <th>1</th>\n",
       "      <td>2023-08-01 11:10:00</td>\n",
       "      <td>3</td>\n",
       "      <td>573.791696</td>\n",
       "      <td>7783.528568</td>\n",
       "      <td>11</td>\n",
       "    </tr>\n",
       "    <tr>\n",
       "      <th>2</th>\n",
       "      <td>2023-08-01 11:20:00</td>\n",
       "      <td>3</td>\n",
       "      <td>561.583362</td>\n",
       "      <td>7782.550369</td>\n",
       "      <td>11</td>\n",
       "    </tr>\n",
       "    <tr>\n",
       "      <th>3</th>\n",
       "      <td>2023-08-01 11:30:00</td>\n",
       "      <td>3</td>\n",
       "      <td>549.375028</td>\n",
       "      <td>7781.572170</td>\n",
       "      <td>11</td>\n",
       "    </tr>\n",
       "    <tr>\n",
       "      <th>4</th>\n",
       "      <td>2023-08-01 11:40:00</td>\n",
       "      <td>3</td>\n",
       "      <td>537.166694</td>\n",
       "      <td>7780.593972</td>\n",
       "      <td>11</td>\n",
       "    </tr>\n",
       "  </tbody>\n",
       "</table>\n",
       "</div>"
      ],
      "text/plain": [
       "             timestamp  system_id  generation_W       load_W  hour\n",
       "0  2023-08-01 11:00:00          3    586.000030  7784.506767    11\n",
       "1  2023-08-01 11:10:00          3    573.791696  7783.528568    11\n",
       "2  2023-08-01 11:20:00          3    561.583362  7782.550369    11\n",
       "3  2023-08-01 11:30:00          3    549.375028  7781.572170    11\n",
       "4  2023-08-01 11:40:00          3    537.166694  7780.593972    11"
      ]
     },
     "execution_count": 73,
     "metadata": {},
     "output_type": "execute_result"
    }
   ],
   "source": [
    "df_train_clean = pd.read_csv('df_train_clean.csv')\n",
    "df_train_clean.head()"
   ]
  },
  {
   "cell_type": "markdown",
   "metadata": {
    "execution": {
     "iopub.execute_input": "2024-08-21T23:10:46.942366Z",
     "iopub.status.busy": "2024-08-21T23:10:46.941970Z",
     "iopub.status.idle": "2024-08-21T23:10:46.961937Z",
     "shell.execute_reply": "2024-08-21T23:10:46.960669Z",
     "shell.execute_reply.started": "2024-08-21T23:10:46.942312Z"
    }
   },
   "source": [
    "## Now Working with the test data"
   ]
  },
  {
   "cell_type": "code",
   "execution_count": 75,
   "metadata": {},
   "outputs": [
    {
     "data": {
      "text/plain": [
       "test_id         0\n",
       "system_id       0\n",
       "timestamp       0\n",
       "generation_W    0\n",
       "load_W          0\n",
       "dtype: int64"
      ]
     },
     "execution_count": 75,
     "metadata": {},
     "output_type": "execute_result"
    }
   ],
   "source": [
    "df_test = pd.read_csv('solar-production-and-load-prediction-competition/test_data_masked.csv')\n",
    "df_test.isna().sum()"
   ]
  },
  {
   "cell_type": "code",
   "execution_count": 77,
   "metadata": {},
   "outputs": [],
   "source": [
    "def reindex_per_system_id(df, freq='10min'):\n",
    "    # Determine the global minimum and maximum timestamp across the entire dataset\n",
    "    global_min_timestamp = df['timestamp'].min()\n",
    "    global_max_timestamp = df['timestamp'].max()\n",
    "    \n",
    "    # Create the complete global timestamp range\n",
    "    full_range = pd.date_range(start=global_min_timestamp, end=global_max_timestamp, freq=freq)\n",
    "    \n",
    "    reindexed_data = []\n",
    "    \n",
    "    # Group by system_id and reindex based on the global full timestamp range for each system\n",
    "    for system_id, group in df.groupby('system_id'):\n",
    "        # Reindex the group with the global full timestamp range\n",
    "        group = group.set_index('timestamp').reindex(full_range)\n",
    "        \n",
    "        # Reset the index and add back the system_id\n",
    "        group = group.reset_index().rename(columns={'index': 'timestamp'})\n",
    "        group['system_id'] = system_id\n",
    "        \n",
    "        reindexed_data.append(group)\n",
    "    \n",
    "    # Concatenate all reindexed groups back into a single DataFrame\n",
    "    return pd.concat(reindexed_data, ignore_index=True)"
   ]
  },
  {
   "cell_type": "code",
   "execution_count": 88,
   "metadata": {},
   "outputs": [],
   "source": [
    "df_test = pd.read_csv('solar-production-and-load-prediction-competition/test_data_masked.csv')"
   ]
  },
  {
   "cell_type": "code",
   "execution_count": 89,
   "metadata": {},
   "outputs": [
    {
     "data": {
      "text/plain": [
       "0"
      ]
     },
     "execution_count": 89,
     "metadata": {},
     "output_type": "execute_result"
    }
   ],
   "source": [
    "test_data.duplicated().sum()"
   ]
  },
  {
   "cell_type": "code",
   "execution_count": 90,
   "metadata": {},
   "outputs": [],
   "source": [
    "reindexed_test_df = reindex_per_system_id(df_test)"
   ]
  },
  {
   "cell_type": "markdown",
   "metadata": {},
   "source": [
    "- Here, we see that, the missing values are alot, and we're unable to handle that much amount, so we'll not play with the test data."
   ]
  },
  {
   "cell_type": "code",
   "execution_count": 94,
   "metadata": {},
   "outputs": [
    {
     "data": {
      "text/plain": [
       "timestamp             0\n",
       "test_id         1055060\n",
       "system_id             0\n",
       "generation_W    1055060\n",
       "load_W          1055060\n",
       "dtype: int64"
      ]
     },
     "execution_count": 94,
     "metadata": {},
     "output_type": "execute_result"
    }
   ],
   "source": [
    "reindexed_test_df.isna().sum()"
   ]
  },
  {
   "cell_type": "markdown",
   "metadata": {},
   "source": [
    "###### Time to merge the data, the timestamp on which we have masked values an required to predict, that will not be merged."
   ]
  },
  {
   "cell_type": "code",
   "execution_count": 98,
   "metadata": {},
   "outputs": [],
   "source": [
    "# Load your train and test data (assuming they are already loaded as DataFrames)\n",
    "train_df = df_filled\n",
    "test_df = test_data\n",
    "\n",
    "# Step 1: Remove the 'test_id' column from the test data\n",
    "test_df = test_df.drop(columns=['test_id'])\n",
    "\n",
    "# Step 2: Filter out the rows in the test data where 'generation_W' and 'load_W' are -1 or -2\n",
    "test_df_filtered = test_df[(test_df['generation_W'] != -1) & (test_df['generation_W'] != -2) &\n",
    "                           (test_df['load_W'] != -1) & (test_df['load_W'] != -2)]\n",
    "\n",
    "# Step 3: Concatenate the train and filtered test data horizontally (axis=1)\n",
    "# Note: This assumes the indices of train and test data align correctly after any filtering or processing.\n",
    "concatenated_df = pd.concat([train_df.reset_index(drop=True), test_df_filtered.reset_index(drop=True)], axis=0)"
   ]
  },
  {
   "cell_type": "code",
   "execution_count": 100,
   "metadata": {},
   "outputs": [],
   "source": [
    "concatenated_df.to_csv('Complete Merged File.csv', index = False)"
   ]
  },
  {
   "cell_type": "code",
   "execution_count": 102,
   "metadata": {},
   "outputs": [],
   "source": [
    "concatenated_df = pd.read_csv('Complete Merged File.csv')"
   ]
  },
  {
   "cell_type": "code",
   "execution_count": 103,
   "metadata": {},
   "outputs": [
    {
     "data": {
      "text/html": [
       "<div>\n",
       "<style scoped>\n",
       "    .dataframe tbody tr th:only-of-type {\n",
       "        vertical-align: middle;\n",
       "    }\n",
       "\n",
       "    .dataframe tbody tr th {\n",
       "        vertical-align: top;\n",
       "    }\n",
       "\n",
       "    .dataframe thead th {\n",
       "        text-align: right;\n",
       "    }\n",
       "</style>\n",
       "<table border=\"1\" class=\"dataframe\">\n",
       "  <thead>\n",
       "    <tr style=\"text-align: right;\">\n",
       "      <th></th>\n",
       "      <th>timestamp</th>\n",
       "      <th>system_id</th>\n",
       "      <th>generation_W</th>\n",
       "      <th>load_W</th>\n",
       "      <th>hour</th>\n",
       "    </tr>\n",
       "  </thead>\n",
       "  <tbody>\n",
       "    <tr>\n",
       "      <th>0</th>\n",
       "      <td>2023-08-01 11:00:00</td>\n",
       "      <td>3</td>\n",
       "      <td>586.000030</td>\n",
       "      <td>7784.506767</td>\n",
       "      <td>11.0</td>\n",
       "    </tr>\n",
       "    <tr>\n",
       "      <th>1</th>\n",
       "      <td>2023-08-01 11:10:00</td>\n",
       "      <td>3</td>\n",
       "      <td>573.791696</td>\n",
       "      <td>7783.528568</td>\n",
       "      <td>11.0</td>\n",
       "    </tr>\n",
       "  </tbody>\n",
       "</table>\n",
       "</div>"
      ],
      "text/plain": [
       "             timestamp  system_id  generation_W       load_W  hour\n",
       "0  2023-08-01 11:00:00          3    586.000030  7784.506767  11.0\n",
       "1  2023-08-01 11:10:00          3    573.791696  7783.528568  11.0"
      ]
     },
     "execution_count": 103,
     "metadata": {},
     "output_type": "execute_result"
    }
   ],
   "source": [
    "concatenated_df.head(2)"
   ]
  },
  {
   "cell_type": "code",
   "execution_count": 104,
   "metadata": {},
   "outputs": [],
   "source": [
    "# Display the concatenated DataFrame\n",
    "concatenated_df.drop('hour', axis = 1, inplace = True)"
   ]
  },
  {
   "cell_type": "code",
   "execution_count": 105,
   "metadata": {},
   "outputs": [
    {
     "data": {
      "text/plain": [
       "0"
      ]
     },
     "execution_count": 105,
     "metadata": {},
     "output_type": "execute_result"
    }
   ],
   "source": [
    "concatenated_df.duplicated().sum()"
   ]
  },
  {
   "cell_type": "code",
   "execution_count": 106,
   "metadata": {},
   "outputs": [
    {
     "data": {
      "text/html": [
       "<div>\n",
       "<style scoped>\n",
       "    .dataframe tbody tr th:only-of-type {\n",
       "        vertical-align: middle;\n",
       "    }\n",
       "\n",
       "    .dataframe tbody tr th {\n",
       "        vertical-align: top;\n",
       "    }\n",
       "\n",
       "    .dataframe thead th {\n",
       "        text-align: right;\n",
       "    }\n",
       "</style>\n",
       "<table border=\"1\" class=\"dataframe\">\n",
       "  <thead>\n",
       "    <tr style=\"text-align: right;\">\n",
       "      <th></th>\n",
       "      <th>timestamp</th>\n",
       "      <th>system_id</th>\n",
       "      <th>generation_W</th>\n",
       "      <th>load_W</th>\n",
       "    </tr>\n",
       "  </thead>\n",
       "  <tbody>\n",
       "    <tr>\n",
       "      <th>0</th>\n",
       "      <td>2023-08-01 11:00:00</td>\n",
       "      <td>3</td>\n",
       "      <td>586.000030</td>\n",
       "      <td>7784.506767</td>\n",
       "    </tr>\n",
       "    <tr>\n",
       "      <th>1</th>\n",
       "      <td>2023-08-01 11:10:00</td>\n",
       "      <td>3</td>\n",
       "      <td>573.791696</td>\n",
       "      <td>7783.528568</td>\n",
       "    </tr>\n",
       "  </tbody>\n",
       "</table>\n",
       "</div>"
      ],
      "text/plain": [
       "             timestamp  system_id  generation_W       load_W\n",
       "0  2023-08-01 11:00:00          3    586.000030  7784.506767\n",
       "1  2023-08-01 11:10:00          3    573.791696  7783.528568"
      ]
     },
     "execution_count": 106,
     "metadata": {},
     "output_type": "execute_result"
    }
   ],
   "source": [
    "concatenated_df.head(2)"
   ]
  },
  {
   "cell_type": "markdown",
   "metadata": {},
   "source": [
    "# Time to analyze the Systems file"
   ]
  },
  {
   "cell_type": "code",
   "execution_count": 108,
   "metadata": {},
   "outputs": [],
   "source": [
    "systems_data = pd.read_csv('solar-production-and-load-prediction-competition/systems_new.csv')"
   ]
  },
  {
   "cell_type": "code",
   "execution_count": 109,
   "metadata": {},
   "outputs": [
    {
     "data": {
      "text/plain": [
       "2"
      ]
     },
     "execution_count": 109,
     "metadata": {},
     "output_type": "execute_result"
    }
   ],
   "source": [
    "systems_data.duplicated().sum()"
   ]
  },
  {
   "cell_type": "code",
   "execution_count": 110,
   "metadata": {},
   "outputs": [],
   "source": [
    "systems_data = systems_data.drop_duplicates()"
   ]
  },
  {
   "cell_type": "code",
   "execution_count": 111,
   "metadata": {},
   "outputs": [
    {
     "data": {
      "text/plain": [
       "0"
      ]
     },
     "execution_count": 111,
     "metadata": {},
     "output_type": "execute_result"
    }
   ],
   "source": [
    "systems_data.duplicated().sum()"
   ]
  },
  {
   "cell_type": "markdown",
   "metadata": {},
   "source": [
    "**This is to check the total number of system_ids in the train and test, then in the system file**"
   ]
  },
  {
   "cell_type": "code",
   "execution_count": 116,
   "metadata": {},
   "outputs": [
    {
     "data": {
      "text/plain": [
       "100"
      ]
     },
     "execution_count": 116,
     "metadata": {},
     "output_type": "execute_result"
    }
   ],
   "source": [
    "concatenated_df['system_id'].nunique()"
   ]
  },
  {
   "cell_type": "code",
   "execution_count": 117,
   "metadata": {},
   "outputs": [
    {
     "data": {
      "text/plain": [
       "80"
      ]
     },
     "execution_count": 117,
     "metadata": {},
     "output_type": "execute_result"
    }
   ],
   "source": [
    "train_data['system_id'].nunique()"
   ]
  },
  {
   "cell_type": "code",
   "execution_count": 118,
   "metadata": {},
   "outputs": [
    {
     "data": {
      "text/plain": [
       "20"
      ]
     },
     "execution_count": 118,
     "metadata": {},
     "output_type": "execute_result"
    }
   ],
   "source": [
    "test_data['system_id'].nunique()"
   ]
  },
  {
   "cell_type": "code",
   "execution_count": 119,
   "metadata": {},
   "outputs": [
    {
     "data": {
      "text/plain": [
       "107"
      ]
     },
     "execution_count": 119,
     "metadata": {},
     "output_type": "execute_result"
    }
   ],
   "source": [
    "systems_data['system_id'].nunique()"
   ]
  },
  {
   "cell_type": "markdown",
   "metadata": {},
   "source": [
    "**Now when we have to know that we don't have all the system_ids in the train and the test; some are extra, so now we'll get access to their index and will remove them, cause it's unnecessary data**"
   ]
  },
  {
   "cell_type": "code",
   "execution_count": 121,
   "metadata": {},
   "outputs": [
    {
     "name": "stdout",
     "output_type": "stream",
     "text": [
      "System IDs present in system_data but not in train_data or test_data:\n",
      "{98, 67, 99, 46, 14, 84, 58}\n"
     ]
    }
   ],
   "source": [
    "# Get unique system_ids from each DataFrame\n",
    "system_ids_system = set(systems_data['system_id'].unique())\n",
    "system_ids_train = set(train_data['system_id'].unique())\n",
    "system_ids_test = set(test_data['system_id'].unique())\n",
    "\n",
    "# Combine the system_ids from train and test data\n",
    "system_ids_train_test = system_ids_train.union(system_ids_test)\n",
    "\n",
    "# Find system_ids that are in system_data but not in either train_data or test_data\n",
    "missing_system_ids = system_ids_system - system_ids_train_test\n",
    "\n",
    "# Output the missing system_ids\n",
    "if missing_system_ids:\n",
    "    print(\"System IDs present in system_data but not in train_data or test_data:\")\n",
    "    print(missing_system_ids)\n",
    "else:\n",
    "    print(\"All system_ids in system_data are present in either train_data or test_data.\")"
   ]
  },
  {
   "cell_type": "markdown",
   "metadata": {},
   "source": [
    "##### Time to remove"
   ]
  },
  {
   "cell_type": "code",
   "execution_count": 123,
   "metadata": {},
   "outputs": [
    {
     "data": {
      "text/html": [
       "<div>\n",
       "<style scoped>\n",
       "    .dataframe tbody tr th:only-of-type {\n",
       "        vertical-align: middle;\n",
       "    }\n",
       "\n",
       "    .dataframe tbody tr th {\n",
       "        vertical-align: top;\n",
       "    }\n",
       "\n",
       "    .dataframe thead th {\n",
       "        text-align: right;\n",
       "    }\n",
       "</style>\n",
       "<table border=\"1\" class=\"dataframe\">\n",
       "  <thead>\n",
       "    <tr style=\"text-align: right;\">\n",
       "      <th></th>\n",
       "      <th>system_id</th>\n",
       "      <th>connection_type</th>\n",
       "      <th>location</th>\n",
       "      <th>panels_capacity</th>\n",
       "      <th>load_capacity</th>\n",
       "    </tr>\n",
       "  </thead>\n",
       "  <tbody>\n",
       "    <tr>\n",
       "      <th>0</th>\n",
       "      <td>1</td>\n",
       "      <td>RESIDENTIAL</td>\n",
       "      <td>ISLAMABAD</td>\n",
       "      <td>11.125</td>\n",
       "      <td>10.0</td>\n",
       "    </tr>\n",
       "    <tr>\n",
       "      <th>1</th>\n",
       "      <td>2</td>\n",
       "      <td>COMMERCIAL</td>\n",
       "      <td>SHEIKHUPURA</td>\n",
       "      <td>5.340</td>\n",
       "      <td>5.5</td>\n",
       "    </tr>\n",
       "    <tr>\n",
       "      <th>2</th>\n",
       "      <td>3</td>\n",
       "      <td>RESIDENTIAL</td>\n",
       "      <td>KARACHI</td>\n",
       "      <td>10.350</td>\n",
       "      <td>10.0</td>\n",
       "    </tr>\n",
       "    <tr>\n",
       "      <th>3</th>\n",
       "      <td>4</td>\n",
       "      <td>RESIDENTIAL</td>\n",
       "      <td>LAHORE</td>\n",
       "      <td>12.420</td>\n",
       "      <td>10.0</td>\n",
       "    </tr>\n",
       "    <tr>\n",
       "      <th>4</th>\n",
       "      <td>5</td>\n",
       "      <td>COMMERCIAL</td>\n",
       "      <td>KARACHI</td>\n",
       "      <td>30.295</td>\n",
       "      <td>20.0</td>\n",
       "    </tr>\n",
       "  </tbody>\n",
       "</table>\n",
       "</div>"
      ],
      "text/plain": [
       "   system_id connection_type     location  panels_capacity  load_capacity\n",
       "0          1     RESIDENTIAL    ISLAMABAD           11.125           10.0\n",
       "1          2      COMMERCIAL  SHEIKHUPURA            5.340            5.5\n",
       "2          3     RESIDENTIAL      KARACHI           10.350           10.0\n",
       "3          4     RESIDENTIAL       LAHORE           12.420           10.0\n",
       "4          5      COMMERCIAL      KARACHI           30.295           20.0"
      ]
     },
     "execution_count": 123,
     "metadata": {},
     "output_type": "execute_result"
    }
   ],
   "source": [
    "# System IDs to remove\n",
    "system_ids_to_remove = missing_system_ids\n",
    "\n",
    "# Filter out the rows with the specified system_ids\n",
    "system_data_filtered = systems_data[~systems_data['system_id'].isin(system_ids_to_remove)]\n",
    "\n",
    "# Optionally, save the filtered data to a new CSV file\n",
    "# system_data_filtered.to_csv('filtered_system_data.csv', index=False)\n",
    "\n",
    "# Output the filtered data\n",
    "system_data_filtered.head()"
   ]
  },
  {
   "cell_type": "code",
   "execution_count": 124,
   "metadata": {},
   "outputs": [
    {
     "data": {
      "text/plain": [
       "system_id          100\n",
       "connection_type      2\n",
       "location            20\n",
       "panels_capacity     51\n",
       "load_capacity        5\n",
       "dtype: int64"
      ]
     },
     "execution_count": 124,
     "metadata": {},
     "output_type": "execute_result"
    }
   ],
   "source": [
    "system_data_filtered.nunique()"
   ]
  },
  {
   "cell_type": "markdown",
   "metadata": {},
   "source": [
    "**As we donn't have much features in our dataset, just timestamp and the system_id, so we'll merge the system_id with the our contatenated_df so that the whole data will be created**"
   ]
  },
  {
   "cell_type": "code",
   "execution_count": 139,
   "metadata": {},
   "outputs": [],
   "source": [
    "df_data = pd.merge(concatenated_df, system_data_filtered, on = 'system_id', how = 'left')"
   ]
  },
  {
   "cell_type": "code",
   "execution_count": 141,
   "metadata": {},
   "outputs": [],
   "source": [
    "df_data.to_csv('FinalMerged.csv', index=False)"
   ]
  },
  {
   "cell_type": "code",
   "execution_count": 142,
   "metadata": {},
   "outputs": [],
   "source": [
    "df_data = pd.read_csv('FinalMerged.csv')"
   ]
  },
  {
   "cell_type": "code",
   "execution_count": 143,
   "metadata": {},
   "outputs": [
    {
     "data": {
      "text/html": [
       "<div>\n",
       "<style scoped>\n",
       "    .dataframe tbody tr th:only-of-type {\n",
       "        vertical-align: middle;\n",
       "    }\n",
       "\n",
       "    .dataframe tbody tr th {\n",
       "        vertical-align: top;\n",
       "    }\n",
       "\n",
       "    .dataframe thead th {\n",
       "        text-align: right;\n",
       "    }\n",
       "</style>\n",
       "<table border=\"1\" class=\"dataframe\">\n",
       "  <thead>\n",
       "    <tr style=\"text-align: right;\">\n",
       "      <th></th>\n",
       "      <th>timestamp</th>\n",
       "      <th>system_id</th>\n",
       "      <th>generation_W</th>\n",
       "      <th>load_W</th>\n",
       "      <th>connection_type</th>\n",
       "      <th>location</th>\n",
       "      <th>panels_capacity</th>\n",
       "      <th>load_capacity</th>\n",
       "    </tr>\n",
       "  </thead>\n",
       "  <tbody>\n",
       "    <tr>\n",
       "      <th>0</th>\n",
       "      <td>2023-08-01 11:00:00</td>\n",
       "      <td>3</td>\n",
       "      <td>586.000030</td>\n",
       "      <td>7784.506767</td>\n",
       "      <td>RESIDENTIAL</td>\n",
       "      <td>KARACHI</td>\n",
       "      <td>10.35</td>\n",
       "      <td>10.0</td>\n",
       "    </tr>\n",
       "    <tr>\n",
       "      <th>1</th>\n",
       "      <td>2023-08-01 11:10:00</td>\n",
       "      <td>3</td>\n",
       "      <td>573.791696</td>\n",
       "      <td>7783.528568</td>\n",
       "      <td>RESIDENTIAL</td>\n",
       "      <td>KARACHI</td>\n",
       "      <td>10.35</td>\n",
       "      <td>10.0</td>\n",
       "    </tr>\n",
       "    <tr>\n",
       "      <th>2</th>\n",
       "      <td>2023-08-01 11:20:00</td>\n",
       "      <td>3</td>\n",
       "      <td>561.583362</td>\n",
       "      <td>7782.550369</td>\n",
       "      <td>RESIDENTIAL</td>\n",
       "      <td>KARACHI</td>\n",
       "      <td>10.35</td>\n",
       "      <td>10.0</td>\n",
       "    </tr>\n",
       "    <tr>\n",
       "      <th>3</th>\n",
       "      <td>2023-08-01 11:30:00</td>\n",
       "      <td>3</td>\n",
       "      <td>549.375028</td>\n",
       "      <td>7781.572170</td>\n",
       "      <td>RESIDENTIAL</td>\n",
       "      <td>KARACHI</td>\n",
       "      <td>10.35</td>\n",
       "      <td>10.0</td>\n",
       "    </tr>\n",
       "    <tr>\n",
       "      <th>4</th>\n",
       "      <td>2023-08-01 11:40:00</td>\n",
       "      <td>3</td>\n",
       "      <td>537.166694</td>\n",
       "      <td>7780.593972</td>\n",
       "      <td>RESIDENTIAL</td>\n",
       "      <td>KARACHI</td>\n",
       "      <td>10.35</td>\n",
       "      <td>10.0</td>\n",
       "    </tr>\n",
       "  </tbody>\n",
       "</table>\n",
       "</div>"
      ],
      "text/plain": [
       "             timestamp  system_id  generation_W       load_W connection_type  \\\n",
       "0  2023-08-01 11:00:00          3    586.000030  7784.506767     RESIDENTIAL   \n",
       "1  2023-08-01 11:10:00          3    573.791696  7783.528568     RESIDENTIAL   \n",
       "2  2023-08-01 11:20:00          3    561.583362  7782.550369     RESIDENTIAL   \n",
       "3  2023-08-01 11:30:00          3    549.375028  7781.572170     RESIDENTIAL   \n",
       "4  2023-08-01 11:40:00          3    537.166694  7780.593972     RESIDENTIAL   \n",
       "\n",
       "  location  panels_capacity  load_capacity  \n",
       "0  KARACHI            10.35           10.0  \n",
       "1  KARACHI            10.35           10.0  \n",
       "2  KARACHI            10.35           10.0  \n",
       "3  KARACHI            10.35           10.0  \n",
       "4  KARACHI            10.35           10.0  "
      ]
     },
     "execution_count": 143,
     "metadata": {},
     "output_type": "execute_result"
    }
   ],
   "source": [
    "df_data.head()"
   ]
  },
  {
   "cell_type": "code",
   "execution_count": 147,
   "metadata": {},
   "outputs": [
    {
     "data": {
      "text/plain": [
       "0"
      ]
     },
     "execution_count": 147,
     "metadata": {},
     "output_type": "execute_result"
    }
   ],
   "source": [
    "df_data.duplicated().sum()"
   ]
  },
  {
   "cell_type": "code",
   "execution_count": 148,
   "metadata": {},
   "outputs": [
    {
     "data": {
      "text/plain": [
       "0"
      ]
     },
     "execution_count": 148,
     "metadata": {},
     "output_type": "execute_result"
    }
   ],
   "source": [
    "concatenated_df.duplicated().sum()"
   ]
  },
  {
   "cell_type": "code",
   "execution_count": 149,
   "metadata": {},
   "outputs": [
    {
     "data": {
      "text/plain": [
       "0"
      ]
     },
     "execution_count": 149,
     "metadata": {},
     "output_type": "execute_result"
    }
   ],
   "source": [
    "systems_data.duplicated().sum()"
   ]
  },
  {
   "cell_type": "markdown",
   "metadata": {},
   "source": [
    "**THe Below Cell of Code will return you the indices of the duplicated, As it's already removed, so no output**"
   ]
  },
  {
   "cell_type": "code",
   "execution_count": 151,
   "metadata": {},
   "outputs": [
    {
     "name": "stdout",
     "output_type": "stream",
     "text": [
      "Index([], dtype='int64')\n"
     ]
    }
   ],
   "source": [
    "# Get a boolean mask of duplicated rows\n",
    "duplicated_mask = systems_data.duplicated()\n",
    "\n",
    "# Get the indices of duplicated rows\n",
    "duplicated_indices = systems_data[duplicated_mask].index\n",
    "\n",
    "# Display the indices of the duplicated rows\n",
    "print(duplicated_indices)"
   ]
  },
  {
   "cell_type": "code",
   "execution_count": 152,
   "metadata": {},
   "outputs": [
    {
     "name": "stdout",
     "output_type": "stream",
     "text": [
      "Empty DataFrame\n",
      "Columns: [system_id, connection_type, location, panels_capacity, load_capacity]\n",
      "Index: []\n"
     ]
    }
   ],
   "source": [
    "# Get a boolean mask of duplicated rows\n",
    "duplicated_mask = systems_data.duplicated(keep=False)\n",
    "\n",
    "# Filter the DataFrame to show only duplicated rows\n",
    "duplicated_rows = systems_data[duplicated_mask]\n",
    "\n",
    "# Display the duplicated rows along with their indices\n",
    "print(duplicated_rows)"
   ]
  },
  {
   "cell_type": "code",
   "execution_count": 153,
   "metadata": {},
   "outputs": [
    {
     "data": {
      "text/html": [
       "<div>\n",
       "<style scoped>\n",
       "    .dataframe tbody tr th:only-of-type {\n",
       "        vertical-align: middle;\n",
       "    }\n",
       "\n",
       "    .dataframe tbody tr th {\n",
       "        vertical-align: top;\n",
       "    }\n",
       "\n",
       "    .dataframe thead th {\n",
       "        text-align: right;\n",
       "    }\n",
       "</style>\n",
       "<table border=\"1\" class=\"dataframe\">\n",
       "  <thead>\n",
       "    <tr style=\"text-align: right;\">\n",
       "      <th></th>\n",
       "      <th>timestamp</th>\n",
       "      <th>system_id</th>\n",
       "      <th>generation_W</th>\n",
       "      <th>load_W</th>\n",
       "      <th>connection_type</th>\n",
       "      <th>location</th>\n",
       "      <th>panels_capacity</th>\n",
       "      <th>load_capacity</th>\n",
       "    </tr>\n",
       "  </thead>\n",
       "  <tbody>\n",
       "    <tr>\n",
       "      <th>0</th>\n",
       "      <td>2023-08-01 11:00:00</td>\n",
       "      <td>3</td>\n",
       "      <td>586.000030</td>\n",
       "      <td>7784.506767</td>\n",
       "      <td>RESIDENTIAL</td>\n",
       "      <td>KARACHI</td>\n",
       "      <td>10.35</td>\n",
       "      <td>10.0</td>\n",
       "    </tr>\n",
       "    <tr>\n",
       "      <th>1</th>\n",
       "      <td>2023-08-01 11:10:00</td>\n",
       "      <td>3</td>\n",
       "      <td>573.791696</td>\n",
       "      <td>7783.528568</td>\n",
       "      <td>RESIDENTIAL</td>\n",
       "      <td>KARACHI</td>\n",
       "      <td>10.35</td>\n",
       "      <td>10.0</td>\n",
       "    </tr>\n",
       "  </tbody>\n",
       "</table>\n",
       "</div>"
      ],
      "text/plain": [
       "             timestamp  system_id  generation_W       load_W connection_type  \\\n",
       "0  2023-08-01 11:00:00          3    586.000030  7784.506767     RESIDENTIAL   \n",
       "1  2023-08-01 11:10:00          3    573.791696  7783.528568     RESIDENTIAL   \n",
       "\n",
       "  location  panels_capacity  load_capacity  \n",
       "0  KARACHI            10.35           10.0  \n",
       "1  KARACHI            10.35           10.0  "
      ]
     },
     "execution_count": 153,
     "metadata": {},
     "output_type": "execute_result"
    }
   ],
   "source": [
    "df_data.head(2)"
   ]
  },
  {
   "cell_type": "markdown",
   "metadata": {},
   "source": [
    "**Just to see the `KARACHI` loation in the dataset.**"
   ]
  },
  {
   "cell_type": "code",
   "execution_count": 155,
   "metadata": {},
   "outputs": [
    {
     "data": {
      "text/html": [
       "<div>\n",
       "<style scoped>\n",
       "    .dataframe tbody tr th:only-of-type {\n",
       "        vertical-align: middle;\n",
       "    }\n",
       "\n",
       "    .dataframe tbody tr th {\n",
       "        vertical-align: top;\n",
       "    }\n",
       "\n",
       "    .dataframe thead th {\n",
       "        text-align: right;\n",
       "    }\n",
       "</style>\n",
       "<table border=\"1\" class=\"dataframe\">\n",
       "  <thead>\n",
       "    <tr style=\"text-align: right;\">\n",
       "      <th></th>\n",
       "      <th>timestamp</th>\n",
       "      <th>system_id</th>\n",
       "      <th>generation_W</th>\n",
       "      <th>load_W</th>\n",
       "      <th>connection_type</th>\n",
       "      <th>location</th>\n",
       "      <th>panels_capacity</th>\n",
       "      <th>load_capacity</th>\n",
       "    </tr>\n",
       "  </thead>\n",
       "  <tbody>\n",
       "    <tr>\n",
       "      <th>0</th>\n",
       "      <td>2023-08-01 11:00:00</td>\n",
       "      <td>3</td>\n",
       "      <td>586.000030</td>\n",
       "      <td>7784.506767</td>\n",
       "      <td>RESIDENTIAL</td>\n",
       "      <td>KARACHI</td>\n",
       "      <td>10.35</td>\n",
       "      <td>10.0</td>\n",
       "    </tr>\n",
       "    <tr>\n",
       "      <th>1</th>\n",
       "      <td>2023-08-01 11:10:00</td>\n",
       "      <td>3</td>\n",
       "      <td>573.791696</td>\n",
       "      <td>7783.528568</td>\n",
       "      <td>RESIDENTIAL</td>\n",
       "      <td>KARACHI</td>\n",
       "      <td>10.35</td>\n",
       "      <td>10.0</td>\n",
       "    </tr>\n",
       "    <tr>\n",
       "      <th>2</th>\n",
       "      <td>2023-08-01 11:20:00</td>\n",
       "      <td>3</td>\n",
       "      <td>561.583362</td>\n",
       "      <td>7782.550369</td>\n",
       "      <td>RESIDENTIAL</td>\n",
       "      <td>KARACHI</td>\n",
       "      <td>10.35</td>\n",
       "      <td>10.0</td>\n",
       "    </tr>\n",
       "    <tr>\n",
       "      <th>3</th>\n",
       "      <td>2023-08-01 11:30:00</td>\n",
       "      <td>3</td>\n",
       "      <td>549.375028</td>\n",
       "      <td>7781.572170</td>\n",
       "      <td>RESIDENTIAL</td>\n",
       "      <td>KARACHI</td>\n",
       "      <td>10.35</td>\n",
       "      <td>10.0</td>\n",
       "    </tr>\n",
       "    <tr>\n",
       "      <th>4</th>\n",
       "      <td>2023-08-01 11:40:00</td>\n",
       "      <td>3</td>\n",
       "      <td>537.166694</td>\n",
       "      <td>7780.593972</td>\n",
       "      <td>RESIDENTIAL</td>\n",
       "      <td>KARACHI</td>\n",
       "      <td>10.35</td>\n",
       "      <td>10.0</td>\n",
       "    </tr>\n",
       "  </tbody>\n",
       "</table>\n",
       "</div>"
      ],
      "text/plain": [
       "             timestamp  system_id  generation_W       load_W connection_type  \\\n",
       "0  2023-08-01 11:00:00          3    586.000030  7784.506767     RESIDENTIAL   \n",
       "1  2023-08-01 11:10:00          3    573.791696  7783.528568     RESIDENTIAL   \n",
       "2  2023-08-01 11:20:00          3    561.583362  7782.550369     RESIDENTIAL   \n",
       "3  2023-08-01 11:30:00          3    549.375028  7781.572170     RESIDENTIAL   \n",
       "4  2023-08-01 11:40:00          3    537.166694  7780.593972     RESIDENTIAL   \n",
       "\n",
       "  location  panels_capacity  load_capacity  \n",
       "0  KARACHI            10.35           10.0  \n",
       "1  KARACHI            10.35           10.0  \n",
       "2  KARACHI            10.35           10.0  \n",
       "3  KARACHI            10.35           10.0  \n",
       "4  KARACHI            10.35           10.0  "
      ]
     },
     "execution_count": 155,
     "metadata": {},
     "output_type": "execute_result"
    }
   ],
   "source": [
    "df_data[df_data['location'] == 'KARACHI'].head()"
   ]
  },
  {
   "cell_type": "markdown",
   "metadata": {},
   "source": [
    "# Feature Engineering"
   ]
  },
  {
   "cell_type": "markdown",
   "metadata": {},
   "source": [
    "**These are the weather data of each city in the `location` downloaded from `Meteostate.net`**"
   ]
  },
  {
   "cell_type": "code",
   "execution_count": 158,
   "metadata": {},
   "outputs": [],
   "source": [
    "df_karachi = pd.read_csv('karachi.csv')\n",
    "df_lahore = pd.read_csv('lahore_city.csv')\n",
    "df_islamabad = pd.read_csv('islamabad.csv')\n",
    "df_hyderabad = pd.read_csv('Hyderabad.csv')\n",
    "df_sialkot = pd.read_csv('sialkot.csv')\n",
    "df_multan = pd.read_csv('multan.csv')\n",
    "df_mardan = pd.read_csv('mardan.csv')\n",
    "df_gujranwala = pd.read_csv('gujranwala.csv')\n",
    "df_sukkur = pd.read_csv('sukkur.csv')\n",
    "df_dera_ismail_khan = pd.read_csv(\"DI khan.csv\")\n",
    "df_peshawar = pd.read_csv('peshawar.csv')\n",
    "df_kamra = pd.read_csv('kamra.csv')\n",
    "df_swat = pd.read_csv('swat.csv')\n",
    "df_rawalpindi = pd.read_csv('rawalpindi.csv')\n",
    "df_faisalabad = pd.read_csv('faisalabad.csv')\n",
    "df_quetta = pd.read_csv('quetta.csv')\n",
    "df_larkana = pd.read_csv('larkana.csv')\n",
    "df_pattoki = pd.read_csv('pattoki.csv')\n",
    "df_sheikhupura = pd.read_csv('lahore.csv')\n",
    "df_abbottabad = pd.read_csv('abbottabad.csv')"
   ]
  },
  {
   "cell_type": "code",
   "execution_count": 167,
   "metadata": {},
   "outputs": [
    {
     "data": {
      "text/html": [
       "<div>\n",
       "<style scoped>\n",
       "    .dataframe tbody tr th:only-of-type {\n",
       "        vertical-align: middle;\n",
       "    }\n",
       "\n",
       "    .dataframe tbody tr th {\n",
       "        vertical-align: top;\n",
       "    }\n",
       "\n",
       "    .dataframe thead th {\n",
       "        text-align: right;\n",
       "    }\n",
       "</style>\n",
       "<table border=\"1\" class=\"dataframe\">\n",
       "  <thead>\n",
       "    <tr style=\"text-align: right;\">\n",
       "      <th></th>\n",
       "      <th>date</th>\n",
       "      <th>tavg</th>\n",
       "      <th>tmin</th>\n",
       "      <th>tmax</th>\n",
       "      <th>prcp</th>\n",
       "      <th>snow</th>\n",
       "      <th>wdir</th>\n",
       "      <th>wspd</th>\n",
       "      <th>wpgt</th>\n",
       "      <th>pres</th>\n",
       "      <th>tsun</th>\n",
       "    </tr>\n",
       "  </thead>\n",
       "  <tbody>\n",
       "    <tr>\n",
       "      <th>0</th>\n",
       "      <td>2023-08-01</td>\n",
       "      <td>28.6</td>\n",
       "      <td>27.1</td>\n",
       "      <td>30.5</td>\n",
       "      <td>0.6</td>\n",
       "      <td>NaN</td>\n",
       "      <td>249</td>\n",
       "      <td>31.2</td>\n",
       "      <td>NaN</td>\n",
       "      <td>1000.3</td>\n",
       "      <td>NaN</td>\n",
       "    </tr>\n",
       "    <tr>\n",
       "      <th>1</th>\n",
       "      <td>2023-08-02</td>\n",
       "      <td>28.6</td>\n",
       "      <td>26.9</td>\n",
       "      <td>30.7</td>\n",
       "      <td>0.4</td>\n",
       "      <td>NaN</td>\n",
       "      <td>247</td>\n",
       "      <td>33.3</td>\n",
       "      <td>NaN</td>\n",
       "      <td>1000.3</td>\n",
       "      <td>NaN</td>\n",
       "    </tr>\n",
       "  </tbody>\n",
       "</table>\n",
       "</div>"
      ],
      "text/plain": [
       "         date  tavg  tmin  tmax  prcp  snow  wdir  wspd  wpgt    pres  tsun\n",
       "0  2023-08-01  28.6  27.1  30.5   0.6   NaN   249  31.2   NaN  1000.3   NaN\n",
       "1  2023-08-02  28.6  26.9  30.7   0.4   NaN   247  33.3   NaN  1000.3   NaN"
      ]
     },
     "execution_count": 167,
     "metadata": {},
     "output_type": "execute_result"
    }
   ],
   "source": [
    "df_karachi = pd.read_csv('karachi.csv')\n",
    "df_karachi.head(2)"
   ]
  },
  {
   "cell_type": "code",
   "execution_count": 169,
   "metadata": {},
   "outputs": [],
   "source": [
    "df_karachi.drop(['snow', 'tsun', 'wpgt'], axis = 1, inplace = True)"
   ]
  },
  {
   "cell_type": "code",
   "execution_count": 171,
   "metadata": {},
   "outputs": [
    {
     "data": {
      "text/plain": [
       "date    0\n",
       "tavg    0\n",
       "tmin    0\n",
       "tmax    0\n",
       "prcp    0\n",
       "wdir    0\n",
       "wspd    0\n",
       "pres    0\n",
       "dtype: int64"
      ]
     },
     "execution_count": 171,
     "metadata": {},
     "output_type": "execute_result"
    }
   ],
   "source": [
    "df_karachi.isna().sum()"
   ]
  },
  {
   "cell_type": "markdown",
   "metadata": {},
   "source": [
    "**The weather accross each city downloaded from the earlier mentioned Web, now it's time to merge it with the data, The weather data will be merged wrt to the location of each system_id**"
   ]
  },
  {
   "cell_type": "code",
   "execution_count": 174,
   "metadata": {},
   "outputs": [
    {
     "data": {
      "text/html": [
       "<div>\n",
       "<style scoped>\n",
       "    .dataframe tbody tr th:only-of-type {\n",
       "        vertical-align: middle;\n",
       "    }\n",
       "\n",
       "    .dataframe tbody tr th {\n",
       "        vertical-align: top;\n",
       "    }\n",
       "\n",
       "    .dataframe thead th {\n",
       "        text-align: right;\n",
       "    }\n",
       "</style>\n",
       "<table border=\"1\" class=\"dataframe\">\n",
       "  <thead>\n",
       "    <tr style=\"text-align: right;\">\n",
       "      <th></th>\n",
       "      <th>timestamp</th>\n",
       "      <th>system_id</th>\n",
       "      <th>generation_W</th>\n",
       "      <th>load_W</th>\n",
       "      <th>connection_type</th>\n",
       "      <th>location</th>\n",
       "      <th>panels_capacity</th>\n",
       "      <th>load_capacity</th>\n",
       "      <th>date</th>\n",
       "      <th>tavg</th>\n",
       "      <th>tmin</th>\n",
       "      <th>tmax</th>\n",
       "      <th>prcp</th>\n",
       "      <th>wdir</th>\n",
       "      <th>wspd</th>\n",
       "      <th>pres</th>\n",
       "    </tr>\n",
       "  </thead>\n",
       "  <tbody>\n",
       "    <tr>\n",
       "      <th>0</th>\n",
       "      <td>2023-08-01 11:00:00</td>\n",
       "      <td>3</td>\n",
       "      <td>586.000030</td>\n",
       "      <td>7784.506767</td>\n",
       "      <td>RESIDENTIAL</td>\n",
       "      <td>KARACHI</td>\n",
       "      <td>10.35</td>\n",
       "      <td>10.0</td>\n",
       "      <td>2023-08-01</td>\n",
       "      <td>28.6</td>\n",
       "      <td>27.1</td>\n",
       "      <td>30.5</td>\n",
       "      <td>0.6</td>\n",
       "      <td>249.0</td>\n",
       "      <td>31.2</td>\n",
       "      <td>1000.3</td>\n",
       "    </tr>\n",
       "    <tr>\n",
       "      <th>1</th>\n",
       "      <td>2023-08-01 11:10:00</td>\n",
       "      <td>3</td>\n",
       "      <td>573.791696</td>\n",
       "      <td>7783.528568</td>\n",
       "      <td>RESIDENTIAL</td>\n",
       "      <td>KARACHI</td>\n",
       "      <td>10.35</td>\n",
       "      <td>10.0</td>\n",
       "      <td>2023-08-01</td>\n",
       "      <td>28.6</td>\n",
       "      <td>27.1</td>\n",
       "      <td>30.5</td>\n",
       "      <td>0.6</td>\n",
       "      <td>249.0</td>\n",
       "      <td>31.2</td>\n",
       "      <td>1000.3</td>\n",
       "    </tr>\n",
       "    <tr>\n",
       "      <th>2</th>\n",
       "      <td>2023-08-01 11:20:00</td>\n",
       "      <td>3</td>\n",
       "      <td>561.583362</td>\n",
       "      <td>7782.550369</td>\n",
       "      <td>RESIDENTIAL</td>\n",
       "      <td>KARACHI</td>\n",
       "      <td>10.35</td>\n",
       "      <td>10.0</td>\n",
       "      <td>2023-08-01</td>\n",
       "      <td>28.6</td>\n",
       "      <td>27.1</td>\n",
       "      <td>30.5</td>\n",
       "      <td>0.6</td>\n",
       "      <td>249.0</td>\n",
       "      <td>31.2</td>\n",
       "      <td>1000.3</td>\n",
       "    </tr>\n",
       "    <tr>\n",
       "      <th>3</th>\n",
       "      <td>2023-08-01 11:30:00</td>\n",
       "      <td>3</td>\n",
       "      <td>549.375028</td>\n",
       "      <td>7781.572170</td>\n",
       "      <td>RESIDENTIAL</td>\n",
       "      <td>KARACHI</td>\n",
       "      <td>10.35</td>\n",
       "      <td>10.0</td>\n",
       "      <td>2023-08-01</td>\n",
       "      <td>28.6</td>\n",
       "      <td>27.1</td>\n",
       "      <td>30.5</td>\n",
       "      <td>0.6</td>\n",
       "      <td>249.0</td>\n",
       "      <td>31.2</td>\n",
       "      <td>1000.3</td>\n",
       "    </tr>\n",
       "    <tr>\n",
       "      <th>4</th>\n",
       "      <td>2023-08-01 11:40:00</td>\n",
       "      <td>3</td>\n",
       "      <td>537.166694</td>\n",
       "      <td>7780.593972</td>\n",
       "      <td>RESIDENTIAL</td>\n",
       "      <td>KARACHI</td>\n",
       "      <td>10.35</td>\n",
       "      <td>10.0</td>\n",
       "      <td>2023-08-01</td>\n",
       "      <td>28.6</td>\n",
       "      <td>27.1</td>\n",
       "      <td>30.5</td>\n",
       "      <td>0.6</td>\n",
       "      <td>249.0</td>\n",
       "      <td>31.2</td>\n",
       "      <td>1000.3</td>\n",
       "    </tr>\n",
       "  </tbody>\n",
       "</table>\n",
       "</div>"
      ],
      "text/plain": [
       "            timestamp  system_id  generation_W       load_W connection_type  \\\n",
       "0 2023-08-01 11:00:00          3    586.000030  7784.506767     RESIDENTIAL   \n",
       "1 2023-08-01 11:10:00          3    573.791696  7783.528568     RESIDENTIAL   \n",
       "2 2023-08-01 11:20:00          3    561.583362  7782.550369     RESIDENTIAL   \n",
       "3 2023-08-01 11:30:00          3    549.375028  7781.572170     RESIDENTIAL   \n",
       "4 2023-08-01 11:40:00          3    537.166694  7780.593972     RESIDENTIAL   \n",
       "\n",
       "  location  panels_capacity  load_capacity       date  tavg  tmin  tmax  prcp  \\\n",
       "0  KARACHI            10.35           10.0 2023-08-01  28.6  27.1  30.5   0.6   \n",
       "1  KARACHI            10.35           10.0 2023-08-01  28.6  27.1  30.5   0.6   \n",
       "2  KARACHI            10.35           10.0 2023-08-01  28.6  27.1  30.5   0.6   \n",
       "3  KARACHI            10.35           10.0 2023-08-01  28.6  27.1  30.5   0.6   \n",
       "4  KARACHI            10.35           10.0 2023-08-01  28.6  27.1  30.5   0.6   \n",
       "\n",
       "    wdir  wspd    pres  \n",
       "0  249.0  31.2  1000.3  \n",
       "1  249.0  31.2  1000.3  \n",
       "2  249.0  31.2  1000.3  \n",
       "3  249.0  31.2  1000.3  \n",
       "4  249.0  31.2  1000.3  "
      ]
     },
     "execution_count": 174,
     "metadata": {},
     "output_type": "execute_result"
    }
   ],
   "source": [
    "# Convert the 'timestamp' and 'date' columns to datetime format\n",
    "df_data['timestamp'] = pd.to_datetime(df_data['timestamp'])\n",
    "df_data['date'] = df_data['timestamp'].dt.date\n",
    "df_data['date'] = pd.to_datetime(df_data['date'])\n",
    "\n",
    "# List of cities and locations to process\n",
    "cities = ['KARACHI', 'LAHORE', 'ISLAMABAD', 'HYDERABAD', 'SIALKOT', 'MULTAN',\n",
    "          'MARDAN', 'GUJRANWALA', 'SUKKUR', 'DERA ISMAIL KHAN', 'PESHAWAR',\n",
    "          'KAMRA', 'SWAT', 'RAWALPINDI', 'FAISALABAD', 'QUETTA', 'LARKANA',\n",
    "          'PATTOKI', 'SHEIKHUPURA', 'ABBOTTABAD']\n",
    "\n",
    "# Initialize an empty list to store DataFrames for each city\n",
    "merged_data_list = []\n",
    "\n",
    "# Iterate over each city and perform the merging and concatenation\n",
    "for city in cities:\n",
    "    # Replace spaces with underscores to match variable names\n",
    "    city_var_name = f'df_{city.lower().replace(\" \", \"_\")}'\n",
    "    \n",
    "    # Load the city's specific DataFrame\n",
    "    try:\n",
    "        df_city = globals()[city_var_name]\n",
    "    except KeyError:\n",
    "        print(f\"DataFrame for {city} not found.\")\n",
    "        continue\n",
    "    \n",
    "    # Convert the 'date' column to datetime in the city's DataFrame\n",
    "    df_city['date'] = pd.to_datetime(df_city['date'])\n",
    "    \n",
    "    # Drop the unnecessary columns if they exist\n",
    "    columns_to_drop = ['snow', 'tsun', 'wpgt']\n",
    "    df_city.drop(columns=[col for col in columns_to_drop if col in df_city.columns], axis=1, inplace=True)\n",
    "    \n",
    "    # Interpolate missing values using the linear method\n",
    "    df_city.interpolate(method='linear', inplace=True)\n",
    "    \n",
    "    # Filter the main data for the current city\n",
    "    city_data = df_data[df_data['location'] == city]\n",
    "    \n",
    "    # Merge the city-specific data with the filtered main data on 'date'\n",
    "    merged_city_data = pd.merge(city_data, df_city, how='left', on='date')\n",
    "    \n",
    "    # Append the merged data to the list\n",
    "    merged_data_list.append(merged_city_data)\n",
    "\n",
    "# Concatenate all the city DataFrames along the vertical axis (rows)\n",
    "final_concatenated_df = pd.concat(merged_data_list, axis=0, ignore_index=True)\n",
    "\n",
    "# Output the final DataFrame\n",
    "final_concatenated_df.head()"
   ]
  },
  {
   "cell_type": "code",
   "execution_count": 175,
   "metadata": {},
   "outputs": [
    {
     "data": {
      "text/plain": [
       "0"
      ]
     },
     "execution_count": 175,
     "metadata": {},
     "output_type": "execute_result"
    }
   ],
   "source": [
    "final_concatenated_df.duplicated().sum()"
   ]
  },
  {
   "cell_type": "code",
   "execution_count": 176,
   "metadata": {},
   "outputs": [
    {
     "data": {
      "text/plain": [
       "0"
      ]
     },
     "execution_count": 176,
     "metadata": {},
     "output_type": "execute_result"
    }
   ],
   "source": [
    "final_concatenated_df.isna().sum().sum()"
   ]
  },
  {
   "cell_type": "code",
   "execution_count": 177,
   "metadata": {},
   "outputs": [],
   "source": [
    "# Save the DataFrame to a CSV file without the index\n",
    "final_concatenated_df.to_csv('Train.csv', index=False)"
   ]
  },
  {
   "cell_type": "code",
   "execution_count": 178,
   "metadata": {},
   "outputs": [
    {
     "data": {
      "text/html": [
       "<div>\n",
       "<style scoped>\n",
       "    .dataframe tbody tr th:only-of-type {\n",
       "        vertical-align: middle;\n",
       "    }\n",
       "\n",
       "    .dataframe tbody tr th {\n",
       "        vertical-align: top;\n",
       "    }\n",
       "\n",
       "    .dataframe thead th {\n",
       "        text-align: right;\n",
       "    }\n",
       "</style>\n",
       "<table border=\"1\" class=\"dataframe\">\n",
       "  <thead>\n",
       "    <tr style=\"text-align: right;\">\n",
       "      <th></th>\n",
       "      <th>timestamp</th>\n",
       "      <th>system_id</th>\n",
       "      <th>generation_W</th>\n",
       "      <th>load_W</th>\n",
       "      <th>connection_type</th>\n",
       "      <th>location</th>\n",
       "      <th>panels_capacity</th>\n",
       "      <th>load_capacity</th>\n",
       "      <th>date</th>\n",
       "      <th>tavg</th>\n",
       "      <th>tmin</th>\n",
       "      <th>tmax</th>\n",
       "      <th>prcp</th>\n",
       "      <th>wdir</th>\n",
       "      <th>wspd</th>\n",
       "      <th>pres</th>\n",
       "    </tr>\n",
       "  </thead>\n",
       "  <tbody>\n",
       "    <tr>\n",
       "      <th>0</th>\n",
       "      <td>2023-08-01 11:00:00</td>\n",
       "      <td>3</td>\n",
       "      <td>586.000030</td>\n",
       "      <td>7784.506767</td>\n",
       "      <td>RESIDENTIAL</td>\n",
       "      <td>KARACHI</td>\n",
       "      <td>10.35</td>\n",
       "      <td>10.0</td>\n",
       "      <td>2023-08-01</td>\n",
       "      <td>28.6</td>\n",
       "      <td>27.1</td>\n",
       "      <td>30.5</td>\n",
       "      <td>0.6</td>\n",
       "      <td>249.0</td>\n",
       "      <td>31.2</td>\n",
       "      <td>1000.3</td>\n",
       "    </tr>\n",
       "    <tr>\n",
       "      <th>1</th>\n",
       "      <td>2023-08-01 11:10:00</td>\n",
       "      <td>3</td>\n",
       "      <td>573.791696</td>\n",
       "      <td>7783.528568</td>\n",
       "      <td>RESIDENTIAL</td>\n",
       "      <td>KARACHI</td>\n",
       "      <td>10.35</td>\n",
       "      <td>10.0</td>\n",
       "      <td>2023-08-01</td>\n",
       "      <td>28.6</td>\n",
       "      <td>27.1</td>\n",
       "      <td>30.5</td>\n",
       "      <td>0.6</td>\n",
       "      <td>249.0</td>\n",
       "      <td>31.2</td>\n",
       "      <td>1000.3</td>\n",
       "    </tr>\n",
       "    <tr>\n",
       "      <th>2</th>\n",
       "      <td>2023-08-01 11:20:00</td>\n",
       "      <td>3</td>\n",
       "      <td>561.583362</td>\n",
       "      <td>7782.550369</td>\n",
       "      <td>RESIDENTIAL</td>\n",
       "      <td>KARACHI</td>\n",
       "      <td>10.35</td>\n",
       "      <td>10.0</td>\n",
       "      <td>2023-08-01</td>\n",
       "      <td>28.6</td>\n",
       "      <td>27.1</td>\n",
       "      <td>30.5</td>\n",
       "      <td>0.6</td>\n",
       "      <td>249.0</td>\n",
       "      <td>31.2</td>\n",
       "      <td>1000.3</td>\n",
       "    </tr>\n",
       "    <tr>\n",
       "      <th>3</th>\n",
       "      <td>2023-08-01 11:30:00</td>\n",
       "      <td>3</td>\n",
       "      <td>549.375028</td>\n",
       "      <td>7781.572170</td>\n",
       "      <td>RESIDENTIAL</td>\n",
       "      <td>KARACHI</td>\n",
       "      <td>10.35</td>\n",
       "      <td>10.0</td>\n",
       "      <td>2023-08-01</td>\n",
       "      <td>28.6</td>\n",
       "      <td>27.1</td>\n",
       "      <td>30.5</td>\n",
       "      <td>0.6</td>\n",
       "      <td>249.0</td>\n",
       "      <td>31.2</td>\n",
       "      <td>1000.3</td>\n",
       "    </tr>\n",
       "    <tr>\n",
       "      <th>4</th>\n",
       "      <td>2023-08-01 11:40:00</td>\n",
       "      <td>3</td>\n",
       "      <td>537.166694</td>\n",
       "      <td>7780.593972</td>\n",
       "      <td>RESIDENTIAL</td>\n",
       "      <td>KARACHI</td>\n",
       "      <td>10.35</td>\n",
       "      <td>10.0</td>\n",
       "      <td>2023-08-01</td>\n",
       "      <td>28.6</td>\n",
       "      <td>27.1</td>\n",
       "      <td>30.5</td>\n",
       "      <td>0.6</td>\n",
       "      <td>249.0</td>\n",
       "      <td>31.2</td>\n",
       "      <td>1000.3</td>\n",
       "    </tr>\n",
       "  </tbody>\n",
       "</table>\n",
       "</div>"
      ],
      "text/plain": [
       "             timestamp  system_id  generation_W       load_W connection_type  \\\n",
       "0  2023-08-01 11:00:00          3    586.000030  7784.506767     RESIDENTIAL   \n",
       "1  2023-08-01 11:10:00          3    573.791696  7783.528568     RESIDENTIAL   \n",
       "2  2023-08-01 11:20:00          3    561.583362  7782.550369     RESIDENTIAL   \n",
       "3  2023-08-01 11:30:00          3    549.375028  7781.572170     RESIDENTIAL   \n",
       "4  2023-08-01 11:40:00          3    537.166694  7780.593972     RESIDENTIAL   \n",
       "\n",
       "  location  panels_capacity  load_capacity        date  tavg  tmin  tmax  \\\n",
       "0  KARACHI            10.35           10.0  2023-08-01  28.6  27.1  30.5   \n",
       "1  KARACHI            10.35           10.0  2023-08-01  28.6  27.1  30.5   \n",
       "2  KARACHI            10.35           10.0  2023-08-01  28.6  27.1  30.5   \n",
       "3  KARACHI            10.35           10.0  2023-08-01  28.6  27.1  30.5   \n",
       "4  KARACHI            10.35           10.0  2023-08-01  28.6  27.1  30.5   \n",
       "\n",
       "   prcp   wdir  wspd    pres  \n",
       "0   0.6  249.0  31.2  1000.3  \n",
       "1   0.6  249.0  31.2  1000.3  \n",
       "2   0.6  249.0  31.2  1000.3  \n",
       "3   0.6  249.0  31.2  1000.3  \n",
       "4   0.6  249.0  31.2  1000.3  "
      ]
     },
     "execution_count": 178,
     "metadata": {},
     "output_type": "execute_result"
    }
   ],
   "source": [
    "train_data = pd.read_csv('Train.csv')\n",
    "train_data.head()"
   ]
  },
  {
   "cell_type": "markdown",
   "metadata": {},
   "source": [
    "**Checking the Missing Values from the final output**"
   ]
  },
  {
   "cell_type": "code",
   "execution_count": 185,
   "metadata": {},
   "outputs": [
    {
     "name": "stdout",
     "output_type": "stream",
     "text": [
      "Indices with missing values:\n",
      "Index([], dtype='int64')\n"
     ]
    }
   ],
   "source": [
    "# Get the indices where there are missing values in the final DataFrame\n",
    "missing_indices = final_concatenated_df[final_concatenated_df.isna().any(axis=1)].index\n",
    "\n",
    "# Output the indices\n",
    "print(\"Indices with missing values:\")\n",
    "print(missing_indices)"
   ]
  },
  {
   "cell_type": "code",
   "execution_count": 186,
   "metadata": {},
   "outputs": [
    {
     "data": {
      "text/html": [
       "<div>\n",
       "<style scoped>\n",
       "    .dataframe tbody tr th:only-of-type {\n",
       "        vertical-align: middle;\n",
       "    }\n",
       "\n",
       "    .dataframe tbody tr th {\n",
       "        vertical-align: top;\n",
       "    }\n",
       "\n",
       "    .dataframe thead th {\n",
       "        text-align: right;\n",
       "    }\n",
       "</style>\n",
       "<table border=\"1\" class=\"dataframe\">\n",
       "  <thead>\n",
       "    <tr style=\"text-align: right;\">\n",
       "      <th></th>\n",
       "      <th>timestamp</th>\n",
       "      <th>system_id</th>\n",
       "      <th>generation_W</th>\n",
       "      <th>load_W</th>\n",
       "      <th>connection_type</th>\n",
       "      <th>location</th>\n",
       "      <th>panels_capacity</th>\n",
       "      <th>load_capacity</th>\n",
       "      <th>date</th>\n",
       "      <th>tavg</th>\n",
       "      <th>tmin</th>\n",
       "      <th>tmax</th>\n",
       "      <th>prcp</th>\n",
       "      <th>wdir</th>\n",
       "      <th>wspd</th>\n",
       "      <th>pres</th>\n",
       "    </tr>\n",
       "  </thead>\n",
       "  <tbody>\n",
       "  </tbody>\n",
       "</table>\n",
       "</div>"
      ],
      "text/plain": [
       "Empty DataFrame\n",
       "Columns: [timestamp, system_id, generation_W, load_W, connection_type, location, panels_capacity, load_capacity, date, tavg, tmin, tmax, prcp, wdir, wspd, pres]\n",
       "Index: []"
      ]
     },
     "execution_count": 186,
     "metadata": {},
     "output_type": "execute_result"
    }
   ],
   "source": [
    "final_concatenated_df.loc[missing_indices]"
   ]
  },
  {
   "cell_type": "markdown",
   "metadata": {},
   "source": [
    "**Now with the Test Data Masked**"
   ]
  },
  {
   "cell_type": "code",
   "execution_count": 190,
   "metadata": {},
   "outputs": [
    {
     "data": {
      "text/html": [
       "<div>\n",
       "<style scoped>\n",
       "    .dataframe tbody tr th:only-of-type {\n",
       "        vertical-align: middle;\n",
       "    }\n",
       "\n",
       "    .dataframe tbody tr th {\n",
       "        vertical-align: top;\n",
       "    }\n",
       "\n",
       "    .dataframe thead th {\n",
       "        text-align: right;\n",
       "    }\n",
       "</style>\n",
       "<table border=\"1\" class=\"dataframe\">\n",
       "  <thead>\n",
       "    <tr style=\"text-align: right;\">\n",
       "      <th></th>\n",
       "      <th>test_id</th>\n",
       "      <th>system_id</th>\n",
       "      <th>timestamp</th>\n",
       "      <th>generation_W</th>\n",
       "      <th>load_W</th>\n",
       "    </tr>\n",
       "  </thead>\n",
       "  <tbody>\n",
       "    <tr>\n",
       "      <th>0</th>\n",
       "      <td>QNN8B4SF</td>\n",
       "      <td>39</td>\n",
       "      <td>2023-08-12 17:40:00</td>\n",
       "      <td>2770.28574</td>\n",
       "      <td>3410.08823</td>\n",
       "    </tr>\n",
       "    <tr>\n",
       "      <th>1</th>\n",
       "      <td>2XFLJU7J</td>\n",
       "      <td>39</td>\n",
       "      <td>2023-08-12 17:50:00</td>\n",
       "      <td>2198.08336</td>\n",
       "      <td>3183.79486</td>\n",
       "    </tr>\n",
       "    <tr>\n",
       "      <th>2</th>\n",
       "      <td>ZTXR24I5</td>\n",
       "      <td>39</td>\n",
       "      <td>2023-08-12 18:00:00</td>\n",
       "      <td>1801.88889</td>\n",
       "      <td>2743.21568</td>\n",
       "    </tr>\n",
       "    <tr>\n",
       "      <th>3</th>\n",
       "      <td>AE6LFBMV</td>\n",
       "      <td>39</td>\n",
       "      <td>2023-08-12 18:10:00</td>\n",
       "      <td>1419.09090</td>\n",
       "      <td>1630.29630</td>\n",
       "    </tr>\n",
       "    <tr>\n",
       "      <th>4</th>\n",
       "      <td>RSDMSDW2</td>\n",
       "      <td>39</td>\n",
       "      <td>2023-08-12 18:20:00</td>\n",
       "      <td>897.99999</td>\n",
       "      <td>1788.60000</td>\n",
       "    </tr>\n",
       "  </tbody>\n",
       "</table>\n",
       "</div>"
      ],
      "text/plain": [
       "    test_id  system_id            timestamp  generation_W      load_W\n",
       "0  QNN8B4SF         39  2023-08-12 17:40:00    2770.28574  3410.08823\n",
       "1  2XFLJU7J         39  2023-08-12 17:50:00    2198.08336  3183.79486\n",
       "2  ZTXR24I5         39  2023-08-12 18:00:00    1801.88889  2743.21568\n",
       "3  AE6LFBMV         39  2023-08-12 18:10:00    1419.09090  1630.29630\n",
       "4  RSDMSDW2         39  2023-08-12 18:20:00     897.99999  1788.60000"
      ]
     },
     "execution_count": 190,
     "metadata": {},
     "output_type": "execute_result"
    }
   ],
   "source": [
    "test_data = pd.read_csv('solar-production-and-load-prediction-competition/test_data_masked.csv')\n",
    "test_data.head()"
   ]
  },
  {
   "cell_type": "code",
   "execution_count": 191,
   "metadata": {},
   "outputs": [
    {
     "data": {
      "text/html": [
       "<div>\n",
       "<style scoped>\n",
       "    .dataframe tbody tr th:only-of-type {\n",
       "        vertical-align: middle;\n",
       "    }\n",
       "\n",
       "    .dataframe tbody tr th {\n",
       "        vertical-align: top;\n",
       "    }\n",
       "\n",
       "    .dataframe thead th {\n",
       "        text-align: right;\n",
       "    }\n",
       "</style>\n",
       "<table border=\"1\" class=\"dataframe\">\n",
       "  <thead>\n",
       "    <tr style=\"text-align: right;\">\n",
       "      <th></th>\n",
       "      <th>test_id</th>\n",
       "      <th>system_id</th>\n",
       "      <th>timestamp</th>\n",
       "      <th>generation_W</th>\n",
       "      <th>load_W</th>\n",
       "      <th>connection_type</th>\n",
       "      <th>location</th>\n",
       "      <th>panels_capacity</th>\n",
       "      <th>load_capacity</th>\n",
       "    </tr>\n",
       "  </thead>\n",
       "  <tbody>\n",
       "    <tr>\n",
       "      <th>0</th>\n",
       "      <td>QNN8B4SF</td>\n",
       "      <td>39</td>\n",
       "      <td>2023-08-12 17:40:00</td>\n",
       "      <td>2770.28574</td>\n",
       "      <td>3410.08823</td>\n",
       "      <td>COMMERCIAL</td>\n",
       "      <td>HYDERABAD</td>\n",
       "      <td>25.2</td>\n",
       "      <td>20.0</td>\n",
       "    </tr>\n",
       "    <tr>\n",
       "      <th>1</th>\n",
       "      <td>2XFLJU7J</td>\n",
       "      <td>39</td>\n",
       "      <td>2023-08-12 17:50:00</td>\n",
       "      <td>2198.08336</td>\n",
       "      <td>3183.79486</td>\n",
       "      <td>COMMERCIAL</td>\n",
       "      <td>HYDERABAD</td>\n",
       "      <td>25.2</td>\n",
       "      <td>20.0</td>\n",
       "    </tr>\n",
       "    <tr>\n",
       "      <th>2</th>\n",
       "      <td>ZTXR24I5</td>\n",
       "      <td>39</td>\n",
       "      <td>2023-08-12 18:00:00</td>\n",
       "      <td>1801.88889</td>\n",
       "      <td>2743.21568</td>\n",
       "      <td>COMMERCIAL</td>\n",
       "      <td>HYDERABAD</td>\n",
       "      <td>25.2</td>\n",
       "      <td>20.0</td>\n",
       "    </tr>\n",
       "    <tr>\n",
       "      <th>3</th>\n",
       "      <td>AE6LFBMV</td>\n",
       "      <td>39</td>\n",
       "      <td>2023-08-12 18:10:00</td>\n",
       "      <td>1419.09090</td>\n",
       "      <td>1630.29630</td>\n",
       "      <td>COMMERCIAL</td>\n",
       "      <td>HYDERABAD</td>\n",
       "      <td>25.2</td>\n",
       "      <td>20.0</td>\n",
       "    </tr>\n",
       "    <tr>\n",
       "      <th>4</th>\n",
       "      <td>RSDMSDW2</td>\n",
       "      <td>39</td>\n",
       "      <td>2023-08-12 18:20:00</td>\n",
       "      <td>897.99999</td>\n",
       "      <td>1788.60000</td>\n",
       "      <td>COMMERCIAL</td>\n",
       "      <td>HYDERABAD</td>\n",
       "      <td>25.2</td>\n",
       "      <td>20.0</td>\n",
       "    </tr>\n",
       "  </tbody>\n",
       "</table>\n",
       "</div>"
      ],
      "text/plain": [
       "    test_id  system_id            timestamp  generation_W      load_W  \\\n",
       "0  QNN8B4SF         39  2023-08-12 17:40:00    2770.28574  3410.08823   \n",
       "1  2XFLJU7J         39  2023-08-12 17:50:00    2198.08336  3183.79486   \n",
       "2  ZTXR24I5         39  2023-08-12 18:00:00    1801.88889  2743.21568   \n",
       "3  AE6LFBMV         39  2023-08-12 18:10:00    1419.09090  1630.29630   \n",
       "4  RSDMSDW2         39  2023-08-12 18:20:00     897.99999  1788.60000   \n",
       "\n",
       "  connection_type   location  panels_capacity  load_capacity  \n",
       "0      COMMERCIAL  HYDERABAD             25.2           20.0  \n",
       "1      COMMERCIAL  HYDERABAD             25.2           20.0  \n",
       "2      COMMERCIAL  HYDERABAD             25.2           20.0  \n",
       "3      COMMERCIAL  HYDERABAD             25.2           20.0  \n",
       "4      COMMERCIAL  HYDERABAD             25.2           20.0  "
      ]
     },
     "execution_count": 191,
     "metadata": {},
     "output_type": "execute_result"
    }
   ],
   "source": [
    "df_test = pd.merge(test_data, systems_data, on='system_id', how='left')\n",
    "df_test.head()"
   ]
  },
  {
   "cell_type": "code",
   "execution_count": 192,
   "metadata": {},
   "outputs": [
    {
     "data": {
      "text/plain": [
       "0"
      ]
     },
     "execution_count": 192,
     "metadata": {},
     "output_type": "execute_result"
    }
   ],
   "source": [
    "df_test.duplicated().sum()"
   ]
  },
  {
   "cell_type": "code",
   "execution_count": 193,
   "metadata": {},
   "outputs": [
    {
     "data": {
      "text/plain": [
       "test_id            0\n",
       "system_id          0\n",
       "timestamp          0\n",
       "generation_W       0\n",
       "load_W             0\n",
       "connection_type    0\n",
       "location           0\n",
       "panels_capacity    0\n",
       "load_capacity      0\n",
       "dtype: int64"
      ]
     },
     "execution_count": 193,
     "metadata": {},
     "output_type": "execute_result"
    }
   ],
   "source": [
    "df_test.isna().sum()"
   ]
  },
  {
   "cell_type": "code",
   "execution_count": 198,
   "metadata": {},
   "outputs": [
    {
     "data": {
      "text/html": [
       "<div>\n",
       "<style scoped>\n",
       "    .dataframe tbody tr th:only-of-type {\n",
       "        vertical-align: middle;\n",
       "    }\n",
       "\n",
       "    .dataframe tbody tr th {\n",
       "        vertical-align: top;\n",
       "    }\n",
       "\n",
       "    .dataframe thead th {\n",
       "        text-align: right;\n",
       "    }\n",
       "</style>\n",
       "<table border=\"1\" class=\"dataframe\">\n",
       "  <thead>\n",
       "    <tr style=\"text-align: right;\">\n",
       "      <th></th>\n",
       "      <th>test_id</th>\n",
       "      <th>system_id</th>\n",
       "      <th>timestamp</th>\n",
       "      <th>generation_W</th>\n",
       "      <th>load_W</th>\n",
       "      <th>connection_type</th>\n",
       "      <th>location</th>\n",
       "      <th>panels_capacity</th>\n",
       "      <th>load_capacity</th>\n",
       "      <th>date</th>\n",
       "      <th>tavg</th>\n",
       "      <th>tmin</th>\n",
       "      <th>tmax</th>\n",
       "      <th>prcp</th>\n",
       "      <th>wdir</th>\n",
       "      <th>wspd</th>\n",
       "      <th>pres</th>\n",
       "    </tr>\n",
       "  </thead>\n",
       "  <tbody>\n",
       "    <tr>\n",
       "      <th>0</th>\n",
       "      <td>8RLHZP9Q</td>\n",
       "      <td>32</td>\n",
       "      <td>2023-08-14 02:00:00</td>\n",
       "      <td>0.0</td>\n",
       "      <td>1954.66668</td>\n",
       "      <td>RESIDENTIAL</td>\n",
       "      <td>KARACHI</td>\n",
       "      <td>10.465</td>\n",
       "      <td>10.0</td>\n",
       "      <td>2023-08-14</td>\n",
       "      <td>27.6</td>\n",
       "      <td>25.8</td>\n",
       "      <td>30.3</td>\n",
       "      <td>0.0</td>\n",
       "      <td>244.0</td>\n",
       "      <td>29.8</td>\n",
       "      <td>1001.2</td>\n",
       "    </tr>\n",
       "    <tr>\n",
       "      <th>1</th>\n",
       "      <td>AOOUUP1G</td>\n",
       "      <td>32</td>\n",
       "      <td>2023-08-14 02:10:00</td>\n",
       "      <td>0.0</td>\n",
       "      <td>1947.90000</td>\n",
       "      <td>RESIDENTIAL</td>\n",
       "      <td>KARACHI</td>\n",
       "      <td>10.465</td>\n",
       "      <td>10.0</td>\n",
       "      <td>2023-08-14</td>\n",
       "      <td>27.6</td>\n",
       "      <td>25.8</td>\n",
       "      <td>30.3</td>\n",
       "      <td>0.0</td>\n",
       "      <td>244.0</td>\n",
       "      <td>29.8</td>\n",
       "      <td>1001.2</td>\n",
       "    </tr>\n",
       "    <tr>\n",
       "      <th>2</th>\n",
       "      <td>IBSBTOSB</td>\n",
       "      <td>32</td>\n",
       "      <td>2023-08-14 02:20:00</td>\n",
       "      <td>0.0</td>\n",
       "      <td>1952.20003</td>\n",
       "      <td>RESIDENTIAL</td>\n",
       "      <td>KARACHI</td>\n",
       "      <td>10.465</td>\n",
       "      <td>10.0</td>\n",
       "      <td>2023-08-14</td>\n",
       "      <td>27.6</td>\n",
       "      <td>25.8</td>\n",
       "      <td>30.3</td>\n",
       "      <td>0.0</td>\n",
       "      <td>244.0</td>\n",
       "      <td>29.8</td>\n",
       "      <td>1001.2</td>\n",
       "    </tr>\n",
       "    <tr>\n",
       "      <th>3</th>\n",
       "      <td>7VMO18VY</td>\n",
       "      <td>32</td>\n",
       "      <td>2023-08-14 02:30:00</td>\n",
       "      <td>0.0</td>\n",
       "      <td>1938.77778</td>\n",
       "      <td>RESIDENTIAL</td>\n",
       "      <td>KARACHI</td>\n",
       "      <td>10.465</td>\n",
       "      <td>10.0</td>\n",
       "      <td>2023-08-14</td>\n",
       "      <td>27.6</td>\n",
       "      <td>25.8</td>\n",
       "      <td>30.3</td>\n",
       "      <td>0.0</td>\n",
       "      <td>244.0</td>\n",
       "      <td>29.8</td>\n",
       "      <td>1001.2</td>\n",
       "    </tr>\n",
       "    <tr>\n",
       "      <th>4</th>\n",
       "      <td>L84NT3BS</td>\n",
       "      <td>32</td>\n",
       "      <td>2023-08-14 02:40:00</td>\n",
       "      <td>0.0</td>\n",
       "      <td>1890.39999</td>\n",
       "      <td>RESIDENTIAL</td>\n",
       "      <td>KARACHI</td>\n",
       "      <td>10.465</td>\n",
       "      <td>10.0</td>\n",
       "      <td>2023-08-14</td>\n",
       "      <td>27.6</td>\n",
       "      <td>25.8</td>\n",
       "      <td>30.3</td>\n",
       "      <td>0.0</td>\n",
       "      <td>244.0</td>\n",
       "      <td>29.8</td>\n",
       "      <td>1001.2</td>\n",
       "    </tr>\n",
       "  </tbody>\n",
       "</table>\n",
       "</div>"
      ],
      "text/plain": [
       "    test_id  system_id           timestamp  generation_W      load_W  \\\n",
       "0  8RLHZP9Q         32 2023-08-14 02:00:00           0.0  1954.66668   \n",
       "1  AOOUUP1G         32 2023-08-14 02:10:00           0.0  1947.90000   \n",
       "2  IBSBTOSB         32 2023-08-14 02:20:00           0.0  1952.20003   \n",
       "3  7VMO18VY         32 2023-08-14 02:30:00           0.0  1938.77778   \n",
       "4  L84NT3BS         32 2023-08-14 02:40:00           0.0  1890.39999   \n",
       "\n",
       "  connection_type location  panels_capacity  load_capacity       date  tavg  \\\n",
       "0     RESIDENTIAL  KARACHI           10.465           10.0 2023-08-14  27.6   \n",
       "1     RESIDENTIAL  KARACHI           10.465           10.0 2023-08-14  27.6   \n",
       "2     RESIDENTIAL  KARACHI           10.465           10.0 2023-08-14  27.6   \n",
       "3     RESIDENTIAL  KARACHI           10.465           10.0 2023-08-14  27.6   \n",
       "4     RESIDENTIAL  KARACHI           10.465           10.0 2023-08-14  27.6   \n",
       "\n",
       "   tmin  tmax  prcp   wdir  wspd    pres  \n",
       "0  25.8  30.3   0.0  244.0  29.8  1001.2  \n",
       "1  25.8  30.3   0.0  244.0  29.8  1001.2  \n",
       "2  25.8  30.3   0.0  244.0  29.8  1001.2  \n",
       "3  25.8  30.3   0.0  244.0  29.8  1001.2  \n",
       "4  25.8  30.3   0.0  244.0  29.8  1001.2  "
      ]
     },
     "execution_count": 198,
     "metadata": {},
     "output_type": "execute_result"
    }
   ],
   "source": [
    "# Convert the 'timestamp' and 'date' columns to datetime format\n",
    "df_test['timestamp'] = pd.to_datetime(df_test['timestamp'])\n",
    "df_test['date'] = df_test['timestamp'].dt.date\n",
    "df_test['date'] = pd.to_datetime(df_test['date'])\n",
    "\n",
    "# List of cities and locations to process\n",
    "cities = ['KARACHI', 'LAHORE', 'ISLAMABAD', 'HYDERABAD', 'SIALKOT', 'MULTAN',\n",
    "          'MARDAN', 'GUJRANWALA', 'SUKKUR', 'DERA ISMAIL KHAN', 'PESHAWAR',\n",
    "          'KAMRA', 'SWAT', 'RAWALPINDI', 'FAISALABAD', 'QUETTA', 'LARKANA',\n",
    "          'PATTOKI', 'SHEIKHUPURA', 'ABBOTTABAD']\n",
    "\n",
    "# Initialize an empty list to store DataFrames for each city\n",
    "merged_data_list = []\n",
    "\n",
    "# Iterate over each city and perform the merging and concatenation\n",
    "for city in cities:\n",
    "    # Replace spaces with underscores to match variable names\n",
    "    city_var_name = f'df_{city.lower().replace(\" \", \"_\")}'\n",
    "    \n",
    "    # Load the city's specific DataFrame\n",
    "    try:\n",
    "        df_city = globals()[city_var_name]\n",
    "    except KeyError:\n",
    "        print(f\"DataFrame for {city} not found.\")\n",
    "        continue\n",
    "    \n",
    "    # Convert the 'date' column to datetime in the city's DataFrame\n",
    "    df_city['date'] = pd.to_datetime(df_city['date'])\n",
    "    \n",
    "    # Drop the unnecessary columns if they exist\n",
    "    columns_to_drop = ['snow', 'tsun', 'wpgt']\n",
    "    df_city.drop(columns=[col for col in columns_to_drop if col in df_city.columns], axis=1, inplace=True)\n",
    "    \n",
    "    # Interpolate missing values using the linear method\n",
    "    df_city.interpolate(method='linear', inplace=True)\n",
    "    \n",
    "    # Filter the main data for the current city\n",
    "    city_data = df_test[df_test['location'] == city]\n",
    "    \n",
    "    # Merge the city-specific data with the filtered main data on 'date'\n",
    "    merged_city_data = pd.merge(city_data, df_city, how='left', on='date')\n",
    "    \n",
    "    # Append the merged data to the list\n",
    "    merged_data_list.append(merged_city_data)\n",
    "\n",
    "# Concatenate all the city DataFrames along the vertical axis (rows)\n",
    "final_concatenated_df_test = pd.concat(merged_data_list, axis=0, ignore_index=True)\n",
    "\n",
    "# Output the final DataFrame\n",
    "final_concatenated_df_test.head()"
   ]
  },
  {
   "cell_type": "code",
   "execution_count": 199,
   "metadata": {},
   "outputs": [
    {
     "data": {
      "text/plain": [
       "0"
      ]
     },
     "execution_count": 199,
     "metadata": {},
     "output_type": "execute_result"
    }
   ],
   "source": [
    "final_concatenated_df_test.isna().sum().sum()"
   ]
  },
  {
   "cell_type": "code",
   "execution_count": 200,
   "metadata": {},
   "outputs": [
    {
     "data": {
      "text/plain": [
       "0"
      ]
     },
     "execution_count": 200,
     "metadata": {},
     "output_type": "execute_result"
    }
   ],
   "source": [
    "final_concatenated_df_test.duplicated().sum()"
   ]
  },
  {
   "cell_type": "code",
   "execution_count": 201,
   "metadata": {},
   "outputs": [],
   "source": [
    "final_concatenated_df_test.to_csv('Test.csv', index = False)"
   ]
  },
  {
   "cell_type": "code",
   "execution_count": 203,
   "metadata": {},
   "outputs": [
    {
     "data": {
      "text/html": [
       "<div>\n",
       "<style scoped>\n",
       "    .dataframe tbody tr th:only-of-type {\n",
       "        vertical-align: middle;\n",
       "    }\n",
       "\n",
       "    .dataframe tbody tr th {\n",
       "        vertical-align: top;\n",
       "    }\n",
       "\n",
       "    .dataframe thead th {\n",
       "        text-align: right;\n",
       "    }\n",
       "</style>\n",
       "<table border=\"1\" class=\"dataframe\">\n",
       "  <thead>\n",
       "    <tr style=\"text-align: right;\">\n",
       "      <th></th>\n",
       "      <th>test_id</th>\n",
       "      <th>system_id</th>\n",
       "      <th>timestamp</th>\n",
       "      <th>generation_W</th>\n",
       "      <th>load_W</th>\n",
       "      <th>connection_type</th>\n",
       "      <th>location</th>\n",
       "      <th>panels_capacity</th>\n",
       "      <th>load_capacity</th>\n",
       "      <th>date</th>\n",
       "      <th>tavg</th>\n",
       "      <th>tmin</th>\n",
       "      <th>tmax</th>\n",
       "      <th>prcp</th>\n",
       "      <th>wdir</th>\n",
       "      <th>wspd</th>\n",
       "      <th>pres</th>\n",
       "    </tr>\n",
       "  </thead>\n",
       "  <tbody>\n",
       "    <tr>\n",
       "      <th>0</th>\n",
       "      <td>8RLHZP9Q</td>\n",
       "      <td>32</td>\n",
       "      <td>2023-08-14 02:00:00</td>\n",
       "      <td>0.0</td>\n",
       "      <td>1954.66668</td>\n",
       "      <td>RESIDENTIAL</td>\n",
       "      <td>KARACHI</td>\n",
       "      <td>10.465</td>\n",
       "      <td>10.0</td>\n",
       "      <td>2023-08-14</td>\n",
       "      <td>27.6</td>\n",
       "      <td>25.8</td>\n",
       "      <td>30.3</td>\n",
       "      <td>0.0</td>\n",
       "      <td>244.0</td>\n",
       "      <td>29.8</td>\n",
       "      <td>1001.2</td>\n",
       "    </tr>\n",
       "    <tr>\n",
       "      <th>1</th>\n",
       "      <td>AOOUUP1G</td>\n",
       "      <td>32</td>\n",
       "      <td>2023-08-14 02:10:00</td>\n",
       "      <td>0.0</td>\n",
       "      <td>1947.90000</td>\n",
       "      <td>RESIDENTIAL</td>\n",
       "      <td>KARACHI</td>\n",
       "      <td>10.465</td>\n",
       "      <td>10.0</td>\n",
       "      <td>2023-08-14</td>\n",
       "      <td>27.6</td>\n",
       "      <td>25.8</td>\n",
       "      <td>30.3</td>\n",
       "      <td>0.0</td>\n",
       "      <td>244.0</td>\n",
       "      <td>29.8</td>\n",
       "      <td>1001.2</td>\n",
       "    </tr>\n",
       "    <tr>\n",
       "      <th>2</th>\n",
       "      <td>IBSBTOSB</td>\n",
       "      <td>32</td>\n",
       "      <td>2023-08-14 02:20:00</td>\n",
       "      <td>0.0</td>\n",
       "      <td>1952.20003</td>\n",
       "      <td>RESIDENTIAL</td>\n",
       "      <td>KARACHI</td>\n",
       "      <td>10.465</td>\n",
       "      <td>10.0</td>\n",
       "      <td>2023-08-14</td>\n",
       "      <td>27.6</td>\n",
       "      <td>25.8</td>\n",
       "      <td>30.3</td>\n",
       "      <td>0.0</td>\n",
       "      <td>244.0</td>\n",
       "      <td>29.8</td>\n",
       "      <td>1001.2</td>\n",
       "    </tr>\n",
       "    <tr>\n",
       "      <th>3</th>\n",
       "      <td>7VMO18VY</td>\n",
       "      <td>32</td>\n",
       "      <td>2023-08-14 02:30:00</td>\n",
       "      <td>0.0</td>\n",
       "      <td>1938.77778</td>\n",
       "      <td>RESIDENTIAL</td>\n",
       "      <td>KARACHI</td>\n",
       "      <td>10.465</td>\n",
       "      <td>10.0</td>\n",
       "      <td>2023-08-14</td>\n",
       "      <td>27.6</td>\n",
       "      <td>25.8</td>\n",
       "      <td>30.3</td>\n",
       "      <td>0.0</td>\n",
       "      <td>244.0</td>\n",
       "      <td>29.8</td>\n",
       "      <td>1001.2</td>\n",
       "    </tr>\n",
       "    <tr>\n",
       "      <th>4</th>\n",
       "      <td>L84NT3BS</td>\n",
       "      <td>32</td>\n",
       "      <td>2023-08-14 02:40:00</td>\n",
       "      <td>0.0</td>\n",
       "      <td>1890.39999</td>\n",
       "      <td>RESIDENTIAL</td>\n",
       "      <td>KARACHI</td>\n",
       "      <td>10.465</td>\n",
       "      <td>10.0</td>\n",
       "      <td>2023-08-14</td>\n",
       "      <td>27.6</td>\n",
       "      <td>25.8</td>\n",
       "      <td>30.3</td>\n",
       "      <td>0.0</td>\n",
       "      <td>244.0</td>\n",
       "      <td>29.8</td>\n",
       "      <td>1001.2</td>\n",
       "    </tr>\n",
       "  </tbody>\n",
       "</table>\n",
       "</div>"
      ],
      "text/plain": [
       "    test_id  system_id            timestamp  generation_W      load_W  \\\n",
       "0  8RLHZP9Q         32  2023-08-14 02:00:00           0.0  1954.66668   \n",
       "1  AOOUUP1G         32  2023-08-14 02:10:00           0.0  1947.90000   \n",
       "2  IBSBTOSB         32  2023-08-14 02:20:00           0.0  1952.20003   \n",
       "3  7VMO18VY         32  2023-08-14 02:30:00           0.0  1938.77778   \n",
       "4  L84NT3BS         32  2023-08-14 02:40:00           0.0  1890.39999   \n",
       "\n",
       "  connection_type location  panels_capacity  load_capacity        date  tavg  \\\n",
       "0     RESIDENTIAL  KARACHI           10.465           10.0  2023-08-14  27.6   \n",
       "1     RESIDENTIAL  KARACHI           10.465           10.0  2023-08-14  27.6   \n",
       "2     RESIDENTIAL  KARACHI           10.465           10.0  2023-08-14  27.6   \n",
       "3     RESIDENTIAL  KARACHI           10.465           10.0  2023-08-14  27.6   \n",
       "4     RESIDENTIAL  KARACHI           10.465           10.0  2023-08-14  27.6   \n",
       "\n",
       "   tmin  tmax  prcp   wdir  wspd    pres  \n",
       "0  25.8  30.3   0.0  244.0  29.8  1001.2  \n",
       "1  25.8  30.3   0.0  244.0  29.8  1001.2  \n",
       "2  25.8  30.3   0.0  244.0  29.8  1001.2  \n",
       "3  25.8  30.3   0.0  244.0  29.8  1001.2  \n",
       "4  25.8  30.3   0.0  244.0  29.8  1001.2  "
      ]
     },
     "execution_count": 203,
     "metadata": {},
     "output_type": "execute_result"
    }
   ],
   "source": [
    "df_test = pd.read_csv('Test.csv')\n",
    "df_test.head()"
   ]
  }
 ],
 "metadata": {
  "kaggle": {
   "accelerator": "none",
   "dataSources": [
    {
     "databundleVersionId": 9362061,
     "sourceId": 83839,
     "sourceType": "competition"
    }
   ],
   "dockerImageVersionId": 30746,
   "isGpuEnabled": false,
   "isInternetEnabled": true,
   "language": "python",
   "sourceType": "notebook"
  },
  "kernelspec": {
   "display_name": "Python 3 (ipykernel)",
   "language": "python",
   "name": "python3"
  },
  "language_info": {
   "codemirror_mode": {
    "name": "ipython",
    "version": 3
   },
   "file_extension": ".py",
   "mimetype": "text/x-python",
   "name": "python",
   "nbconvert_exporter": "python",
   "pygments_lexer": "ipython3",
   "version": "3.12.4"
  }
 },
 "nbformat": 4,
 "nbformat_minor": 4
}
